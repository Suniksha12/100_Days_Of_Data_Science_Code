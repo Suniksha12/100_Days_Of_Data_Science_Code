{
  "nbformat": 4,
  "nbformat_minor": 0,
  "metadata": {
    "colab": {
      "provenance": []
    },
    "kernelspec": {
      "name": "python3",
      "display_name": "Python 3"
    },
    "language_info": {
      "name": "python"
    }
  },
  "cells": [
    {
      "cell_type": "markdown",
      "source": [
        "# **Pandas**\n",
        "\n",
        "It supports two data structures:\n",
        "\n",
        "1. Series\n",
        "2. Dataframe\n"
      ],
      "metadata": {
        "id": "RnskCH7CUZh_"
      }
    },
    {
      "cell_type": "markdown",
      "source": [
        "1. Series\n",
        "\n",
        "Creating an Empty Series"
      ],
      "metadata": {
        "id": "_VttqI9jUnar"
      }
    },
    {
      "cell_type": "code",
      "execution_count": 1,
      "metadata": {
        "colab": {
          "base_uri": "https://localhost:8080/"
        },
        "id": "MAzjL5BaUVBd",
        "outputId": "c1474ca8-3733-4b12-e7e3-1aadbedd6c4a"
      },
      "outputs": [
        {
          "output_type": "stream",
          "name": "stdout",
          "text": [
            "Series([], dtype: float64)\n"
          ]
        },
        {
          "output_type": "stream",
          "name": "stderr",
          "text": [
            "<ipython-input-1-e8466068be18>:2: FutureWarning: The default dtype for empty Series will be 'object' instead of 'float64' in a future version. Specify a dtype explicitly to silence this warning.\n",
            "  ls = pd.Series()\n"
          ]
        }
      ],
      "source": [
        "import pandas as pd\n",
        "ls = pd.Series()\n",
        "print(ls)"
      ]
    },
    {
      "cell_type": "code",
      "source": [
        "#creating a series fom ndarray\n",
        "\n",
        "import pandas as pd\n",
        "import numpy as np\n",
        "data = np.array(['a','b','c','d'])\n",
        "ls = pd.Series(data)\n",
        "print(ls)"
      ],
      "metadata": {
        "colab": {
          "base_uri": "https://localhost:8080/"
        },
        "id": "DOkQ-MiyUwQj",
        "outputId": "ae0a8d60-4ab0-476c-8126-7d75a99d3e92"
      },
      "execution_count": 2,
      "outputs": [
        {
          "output_type": "stream",
          "name": "stdout",
          "text": [
            "0    a\n",
            "1    b\n",
            "2    c\n",
            "3    d\n",
            "dtype: object\n"
          ]
        }
      ]
    },
    {
      "cell_type": "code",
      "source": [
        "#creating a pandas Series from a list:\n",
        "\n",
        "import pandas as pd\n",
        "a = [6,7,2]\n",
        "ls = pd.Series(a)\n",
        "print(ls)"
      ],
      "metadata": {
        "colab": {
          "base_uri": "https://localhost:8080/"
        },
        "id": "aXwFyTF5VCbi",
        "outputId": "d618b4c4-66bb-4360-c5b6-95b6771ec5e8"
      },
      "execution_count": 3,
      "outputs": [
        {
          "output_type": "stream",
          "name": "stdout",
          "text": [
            "0    6\n",
            "1    7\n",
            "2    2\n",
            "dtype: int64\n"
          ]
        }
      ]
    },
    {
      "cell_type": "code",
      "source": [
        "#create a Pandas series from a dictionary:\n",
        "\n",
        "import pandas as pd\n",
        "calories = {\"day1\":420,\n",
        "            \"day2\":380,\n",
        "            \"day3\":390}\n",
        "\n",
        "df = pd.Series(calories)\n",
        "print(df)"
      ],
      "metadata": {
        "colab": {
          "base_uri": "https://localhost:8080/"
        },
        "id": "RQRe9SDWVOEW",
        "outputId": "02e936ab-6433-4453-cb88-f5092375449f"
      },
      "execution_count": 4,
      "outputs": [
        {
          "output_type": "stream",
          "name": "stdout",
          "text": [
            "day1    420\n",
            "day2    380\n",
            "day3    390\n",
            "dtype: int64\n"
          ]
        }
      ]
    },
    {
      "cell_type": "markdown",
      "source": [
        "# Create DataFrame"
      ],
      "metadata": {
        "id": "JR3e7ZOiWVO4"
      }
    },
    {
      "cell_type": "markdown",
      "source": [
        "A pandas DataFrame can be created using various inputs like -\n",
        "\n",
        "- Lists\n",
        "- dict\n",
        "- Series\n",
        "- Numpy ndarrays\n",
        "- Another DataFrame"
      ],
      "metadata": {
        "id": "kAyapMoCWYq2"
      }
    },
    {
      "cell_type": "code",
      "source": [
        "#Create an Empty DataFrame\n",
        "\n",
        "import pandas as pd\n",
        "df = pd.DataFrame()\n",
        "print(df)"
      ],
      "metadata": {
        "colab": {
          "base_uri": "https://localhost:8080/"
        },
        "id": "hapmMVGmWT5w",
        "outputId": "c7c780dc-9002-4451-d792-263c05ae1045"
      },
      "execution_count": 5,
      "outputs": [
        {
          "output_type": "stream",
          "name": "stdout",
          "text": [
            "Empty DataFrame\n",
            "Columns: []\n",
            "Index: []\n"
          ]
        }
      ]
    },
    {
      "cell_type": "code",
      "source": [
        "#creating a DataFrame from Lists\n",
        "\n",
        "import pandas as pd\n",
        "a = [6,7,2]\n",
        "ls = pd.DataFrame(a)\n",
        "print(ls)"
      ],
      "metadata": {
        "colab": {
          "base_uri": "https://localhost:8080/"
        },
        "id": "syK_xt5CXC0P",
        "outputId": "0935ec4e-ce8f-471e-ad66-fee848af3505"
      },
      "execution_count": 6,
      "outputs": [
        {
          "output_type": "stream",
          "name": "stdout",
          "text": [
            "   0\n",
            "0  6\n",
            "1  7\n",
            "2  2\n"
          ]
        }
      ]
    },
    {
      "cell_type": "code",
      "source": [
        "#Creating a dataFrame  from Dict of ndarrays/Lists\n",
        "\n",
        "import pandas as pd\n",
        "data = {\n",
        "        'Name':['Tom', 'Jack', 'Steve', 'Ricky'],\n",
        "        'Age':[28,34,29,42]\n",
        "       }\n",
        "df = pd.DataFrame(data,index=['rank1','rank2','rank3','rank4'])\n",
        "print(df)"
      ],
      "metadata": {
        "colab": {
          "base_uri": "https://localhost:8080/"
        },
        "id": "3CPkXga_XO0G",
        "outputId": "a732d2ea-4244-4dc9-c127-ddc59786df5c"
      },
      "execution_count": 7,
      "outputs": [
        {
          "output_type": "stream",
          "name": "stdout",
          "text": [
            "        Name  Age\n",
            "rank1    Tom   28\n",
            "rank2   Jack   34\n",
            "rank3  Steve   29\n",
            "rank4  Ricky   42\n"
          ]
        }
      ]
    },
    {
      "cell_type": "code",
      "source": [
        "#Create a DataFrame from List of Dicts\n",
        "\n",
        "import pandas as pd\n",
        "data = [\n",
        "    {'a': 1, 'b': 2},\n",
        "    {'a': 5, 'b': 10, 'c': 20}\n",
        "    ]\n",
        "df = pd.DataFrame(data)\n",
        "print(df.loc[0])"
      ],
      "metadata": {
        "colab": {
          "base_uri": "https://localhost:8080/"
        },
        "id": "gdizy6koX7nA",
        "outputId": "794d2d69-e1a9-4203-b3ce-a13fd8faa5a2"
      },
      "execution_count": 8,
      "outputs": [
        {
          "output_type": "stream",
          "name": "stdout",
          "text": [
            "a    1.0\n",
            "b    2.0\n",
            "c    NaN\n",
            "Name: 0, dtype: float64\n"
          ]
        }
      ]
    },
    {
      "cell_type": "markdown",
      "source": [
        "#Pandas - DescripTive Statistics"
      ],
      "metadata": {
        "id": "y2zsoV1eYt1u"
      }
    },
    {
      "cell_type": "code",
      "source": [
        "import pandas as pd\n",
        "import numpy as np\n",
        "\n",
        "d = {'Name':pd.Series(['Tom','James','Ricky','Vin','Steve','Smith','Jack',\n",
        "   'Lee','David','Gasper','Betina','Andres']),\n",
        "   'Age':pd.Series([25,26,25,23,30,29,23,34,40,30,51,46]),\n",
        "   'Rating':pd.Series([4.23,3.24,3.98,2.56,3.20,4.6,3.8,3.78,2.98,4.80,4.10,3.65])\n",
        "}\n"
      ],
      "metadata": {
        "id": "Z7Yldz7CYrMC"
      },
      "execution_count": 9,
      "outputs": []
    },
    {
      "cell_type": "code",
      "source": [
        "#creating a dataframe\n",
        "df = pd.DataFrame(d)\n",
        "print(df)"
      ],
      "metadata": {
        "colab": {
          "base_uri": "https://localhost:8080/"
        },
        "id": "YWcp05mfa9Q_",
        "outputId": "c077e830-87f7-442b-d193-f877573a8a01"
      },
      "execution_count": 10,
      "outputs": [
        {
          "output_type": "stream",
          "name": "stdout",
          "text": [
            "      Name  Age  Rating\n",
            "0      Tom   25    4.23\n",
            "1    James   26    3.24\n",
            "2    Ricky   25    3.98\n",
            "3      Vin   23    2.56\n",
            "4    Steve   30    3.20\n",
            "5    Smith   29    4.60\n",
            "6     Jack   23    3.80\n",
            "7      Lee   34    3.78\n",
            "8    David   40    2.98\n",
            "9   Gasper   30    4.80\n",
            "10  Betina   51    4.10\n",
            "11  Andres   46    3.65\n"
          ]
        }
      ]
    },
    {
      "cell_type": "code",
      "source": [
        "print(df.sum())"
      ],
      "metadata": {
        "colab": {
          "base_uri": "https://localhost:8080/"
        },
        "id": "NCCgjDlqbQKw",
        "outputId": "1504d9d9-b3cf-442b-b43f-5c3c92fc79a6"
      },
      "execution_count": 11,
      "outputs": [
        {
          "output_type": "stream",
          "name": "stdout",
          "text": [
            "Name      TomJamesRickyVinSteveSmithJackLeeDavidGasperBe...\n",
            "Age                                                     382\n",
            "Rating                                                44.92\n",
            "dtype: object\n"
          ]
        }
      ]
    },
    {
      "cell_type": "code",
      "source": [
        "print(df.mean())"
      ],
      "metadata": {
        "colab": {
          "base_uri": "https://localhost:8080/"
        },
        "id": "15fudp0wbS7t",
        "outputId": "dc573667-e935-4195-f3de-a052c04f6dd5"
      },
      "execution_count": 12,
      "outputs": [
        {
          "output_type": "stream",
          "name": "stdout",
          "text": [
            "Age       31.833333\n",
            "Rating     3.743333\n",
            "dtype: float64\n"
          ]
        },
        {
          "output_type": "stream",
          "name": "stderr",
          "text": [
            "<ipython-input-12-f98cceecb4a0>:1: FutureWarning: The default value of numeric_only in DataFrame.mean is deprecated. In a future version, it will default to False. In addition, specifying 'numeric_only=None' is deprecated. Select only valid columns or specify the value of numeric_only to silence this warning.\n",
            "  print(df.mean())\n"
          ]
        }
      ]
    },
    {
      "cell_type": "code",
      "source": [
        "print(df.mode())"
      ],
      "metadata": {
        "colab": {
          "base_uri": "https://localhost:8080/"
        },
        "id": "2MAvzNxkbVPy",
        "outputId": "59d65204-e8b1-43ae-ab37-a144ad231490"
      },
      "execution_count": 13,
      "outputs": [
        {
          "output_type": "stream",
          "name": "stdout",
          "text": [
            "      Name   Age  Rating\n",
            "0   Andres  23.0    2.56\n",
            "1   Betina  25.0    2.98\n",
            "2    David  30.0    3.20\n",
            "3   Gasper   NaN    3.24\n",
            "4     Jack   NaN    3.65\n",
            "5    James   NaN    3.78\n",
            "6      Lee   NaN    3.80\n",
            "7    Ricky   NaN    3.98\n",
            "8    Smith   NaN    4.10\n",
            "9    Steve   NaN    4.23\n",
            "10     Tom   NaN    4.60\n",
            "11     Vin   NaN    4.80\n"
          ]
        }
      ]
    },
    {
      "cell_type": "code",
      "source": [
        "print(df.median())"
      ],
      "metadata": {
        "colab": {
          "base_uri": "https://localhost:8080/"
        },
        "id": "Pc3jxCARbXpO",
        "outputId": "c2d4f442-bc6e-4a6d-aac7-943596037f81"
      },
      "execution_count": 14,
      "outputs": [
        {
          "output_type": "stream",
          "name": "stdout",
          "text": [
            "Age       29.50\n",
            "Rating     3.79\n",
            "dtype: float64\n"
          ]
        },
        {
          "output_type": "stream",
          "name": "stderr",
          "text": [
            "<ipython-input-14-71fafddbd984>:1: FutureWarning: The default value of numeric_only in DataFrame.median is deprecated. In a future version, it will default to False. In addition, specifying 'numeric_only=None' is deprecated. Select only valid columns or specify the value of numeric_only to silence this warning.\n",
            "  print(df.median())\n"
          ]
        }
      ]
    },
    {
      "cell_type": "code",
      "source": [
        "print(df.std())"
      ],
      "metadata": {
        "colab": {
          "base_uri": "https://localhost:8080/"
        },
        "id": "qnE43Ek4bbYE",
        "outputId": "5a8ebf37-9b2a-451d-9cbd-4ad5464509c3"
      },
      "execution_count": 15,
      "outputs": [
        {
          "output_type": "stream",
          "name": "stdout",
          "text": [
            "Age       9.232682\n",
            "Rating    0.661628\n",
            "dtype: float64\n"
          ]
        },
        {
          "output_type": "stream",
          "name": "stderr",
          "text": [
            "<ipython-input-15-c12939f2b3b0>:1: FutureWarning: The default value of numeric_only in DataFrame.std is deprecated. In a future version, it will default to False. In addition, specifying 'numeric_only=None' is deprecated. Select only valid columns or specify the value of numeric_only to silence this warning.\n",
            "  print(df.std())\n"
          ]
        }
      ]
    },
    {
      "cell_type": "code",
      "source": [
        "print(df.describe())"
      ],
      "metadata": {
        "colab": {
          "base_uri": "https://localhost:8080/"
        },
        "id": "vp3h6AxvbdJZ",
        "outputId": "197c119e-3a4e-4da0-b516-556b2e9c7244"
      },
      "execution_count": 16,
      "outputs": [
        {
          "output_type": "stream",
          "name": "stdout",
          "text": [
            "             Age     Rating\n",
            "count  12.000000  12.000000\n",
            "mean   31.833333   3.743333\n",
            "std     9.232682   0.661628\n",
            "min    23.000000   2.560000\n",
            "25%    25.000000   3.230000\n",
            "50%    29.500000   3.790000\n",
            "75%    35.500000   4.132500\n",
            "max    51.000000   4.800000\n"
          ]
        }
      ]
    },
    {
      "cell_type": "code",
      "source": [
        "print(df.max())"
      ],
      "metadata": {
        "colab": {
          "base_uri": "https://localhost:8080/"
        },
        "id": "54cmDv7SbgI8",
        "outputId": "529a59ba-e3c4-4ce0-85b2-8c42dec91e8a"
      },
      "execution_count": 17,
      "outputs": [
        {
          "output_type": "stream",
          "name": "stdout",
          "text": [
            "Name      Vin\n",
            "Age        51\n",
            "Rating    4.8\n",
            "dtype: object\n"
          ]
        }
      ]
    },
    {
      "cell_type": "code",
      "source": [
        "print(df.min())"
      ],
      "metadata": {
        "colab": {
          "base_uri": "https://localhost:8080/"
        },
        "id": "JCsg7JWdcS3P",
        "outputId": "7975dbe2-ac35-4843-99d6-97d4c0fa19c4"
      },
      "execution_count": 18,
      "outputs": [
        {
          "output_type": "stream",
          "name": "stdout",
          "text": [
            "Name      Andres\n",
            "Age           23\n",
            "Rating      2.56\n",
            "dtype: object\n"
          ]
        }
      ]
    },
    {
      "cell_type": "code",
      "source": [],
      "metadata": {
        "id": "ywGzrXPUcUaz"
      },
      "execution_count": 18,
      "outputs": []
    }
  ]
}