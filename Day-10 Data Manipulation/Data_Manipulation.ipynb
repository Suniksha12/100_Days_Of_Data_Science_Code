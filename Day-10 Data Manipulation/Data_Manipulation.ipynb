{
  "nbformat": 4,
  "nbformat_minor": 0,
  "metadata": {
    "colab": {
      "provenance": []
    },
    "kernelspec": {
      "name": "python3",
      "display_name": "Python 3"
    },
    "language_info": {
      "name": "python"
    }
  },
  "cells": [
    {
      "cell_type": "markdown",
      "source": [
        "# **Data Manipulation**"
      ],
      "metadata": {
        "id": "1aKhFPYYWsbs"
      }
    },
    {
      "cell_type": "markdown",
      "source": [
        "- Adding/Removing Columns\n",
        "\n",
        "- Data Aggregation\n",
        "\n",
        "- Grouping and Pivot Tables"
      ],
      "metadata": {
        "id": "IfADNC8SWxGV"
      }
    },
    {
      "cell_type": "code",
      "execution_count": 1,
      "metadata": {
        "colab": {
          "base_uri": "https://localhost:8080/"
        },
        "id": "4CpbDPkIWd24",
        "outputId": "438f5447-7092-48ad-8bc2-0cc0c8709314"
      },
      "outputs": [
        {
          "output_type": "stream",
          "name": "stdout",
          "text": [
            "      Name  Age\n",
            "0    Alice   25\n",
            "1      Bob   30\n",
            "2  Charlie   35\n"
          ]
        }
      ],
      "source": [
        "import pandas as pd\n",
        "data = {'Name': ['Alice', 'Bob', 'Charlie'],\n",
        "        'Age': [25, 30, 35]}\n",
        "df = pd.DataFrame(data)\n",
        "print(df)"
      ]
    },
    {
      "cell_type": "code",
      "source": [
        "df['City'] = ['New York', 'Los Angeles', 'Chicago']"
      ],
      "metadata": {
        "id": "Y44pP7kMXNjw"
      },
      "execution_count": 2,
      "outputs": []
    },
    {
      "cell_type": "code",
      "source": [
        "print(df)"
      ],
      "metadata": {
        "colab": {
          "base_uri": "https://localhost:8080/"
        },
        "id": "aK1ivL6XXSH6",
        "outputId": "9ac2624c-9392-4631-c8d8-e6e985118505"
      },
      "execution_count": 3,
      "outputs": [
        {
          "output_type": "stream",
          "name": "stdout",
          "text": [
            "      Name  Age         City\n",
            "0    Alice   25     New York\n",
            "1      Bob   30  Los Angeles\n",
            "2  Charlie   35      Chicago\n"
          ]
        }
      ]
    },
    {
      "cell_type": "code",
      "source": [
        "df = df.drop('City',axis=1)"
      ],
      "metadata": {
        "id": "jGrNhDnxXTz1"
      },
      "execution_count": 4,
      "outputs": []
    },
    {
      "cell_type": "code",
      "source": [
        "print(df)"
      ],
      "metadata": {
        "colab": {
          "base_uri": "https://localhost:8080/"
        },
        "id": "bb-kLk_RXZo8",
        "outputId": "a99e6181-e032-4473-db56-50eec0213f71"
      },
      "execution_count": 5,
      "outputs": [
        {
          "output_type": "stream",
          "name": "stdout",
          "text": [
            "      Name  Age\n",
            "0    Alice   25\n",
            "1      Bob   30\n",
            "2  Charlie   35\n"
          ]
        }
      ]
    },
    {
      "cell_type": "markdown",
      "source": [
        "# **Data Aggregation**"
      ],
      "metadata": {
        "id": "OqUosHdYXf_5"
      }
    },
    {
      "cell_type": "code",
      "source": [
        "import pandas as pd\n",
        "data = {'Category': ['A', 'B', 'A', 'B', 'A', 'B'],\n",
        "        'Value': [10, 20, 15, 25, 30, 35]}\n",
        "df = pd.DataFrame(data)\n",
        "df1 = df.groupby('Category')"
      ],
      "metadata": {
        "id": "BrVKDpHrXcjb"
      },
      "execution_count": 6,
      "outputs": []
    },
    {
      "cell_type": "code",
      "source": [
        "x1 = df1['Value'].sum()\n",
        "print(x1) #sum output"
      ],
      "metadata": {
        "colab": {
          "base_uri": "https://localhost:8080/"
        },
        "id": "HJA4lQLwXvrH",
        "outputId": "5465bb7f-17d4-4d83-b99f-57167fa777c9"
      },
      "execution_count": 7,
      "outputs": [
        {
          "output_type": "stream",
          "name": "stdout",
          "text": [
            "Category\n",
            "A    55\n",
            "B    80\n",
            "Name: Value, dtype: int64\n"
          ]
        }
      ]
    },
    {
      "cell_type": "code",
      "source": [
        "x2 = df1['Value'].mean()\n",
        "print(x2) #mean output"
      ],
      "metadata": {
        "colab": {
          "base_uri": "https://localhost:8080/"
        },
        "id": "DqhS4a3dX6TN",
        "outputId": "85049168-204d-44c8-a8dd-f005e019914a"
      },
      "execution_count": 8,
      "outputs": [
        {
          "output_type": "stream",
          "name": "stdout",
          "text": [
            "Category\n",
            "A    18.333333\n",
            "B    26.666667\n",
            "Name: Value, dtype: float64\n"
          ]
        }
      ]
    },
    {
      "cell_type": "code",
      "source": [
        "x3 = df1['Value'].median()\n",
        "print(x3) #median output"
      ],
      "metadata": {
        "colab": {
          "base_uri": "https://localhost:8080/"
        },
        "id": "2IWpy1Y5YJLJ",
        "outputId": "64437e90-be9c-4122-acde-773f4ba96125"
      },
      "execution_count": 9,
      "outputs": [
        {
          "output_type": "stream",
          "name": "stdout",
          "text": [
            "Category\n",
            "A    15.0\n",
            "B    25.0\n",
            "Name: Value, dtype: float64\n"
          ]
        }
      ]
    },
    {
      "cell_type": "code",
      "source": [
        "x4 = df1['Value'].max()\n",
        "print(x4) #max output"
      ],
      "metadata": {
        "colab": {
          "base_uri": "https://localhost:8080/"
        },
        "id": "QBUrPo-vYPpX",
        "outputId": "58b69304-2c3d-455e-c7a1-2f7237594ae7"
      },
      "execution_count": 10,
      "outputs": [
        {
          "output_type": "stream",
          "name": "stdout",
          "text": [
            "Category\n",
            "A    30\n",
            "B    35\n",
            "Name: Value, dtype: int64\n"
          ]
        }
      ]
    },
    {
      "cell_type": "code",
      "source": [
        "x5 = df1['Value'].count()\n",
        "print(x5) #count output"
      ],
      "metadata": {
        "colab": {
          "base_uri": "https://localhost:8080/"
        },
        "id": "5FfD5UOpYdcW",
        "outputId": "cc1bafcf-684c-4c52-8a74-ddea84051774"
      },
      "execution_count": 11,
      "outputs": [
        {
          "output_type": "stream",
          "name": "stdout",
          "text": [
            "Category\n",
            "A    3\n",
            "B    3\n",
            "Name: Value, dtype: int64\n"
          ]
        }
      ]
    },
    {
      "cell_type": "code",
      "source": [
        "x6 = df1['Value'].min()\n",
        "print(x6) #min output"
      ],
      "metadata": {
        "colab": {
          "base_uri": "https://localhost:8080/"
        },
        "id": "J74MUw42YkXB",
        "outputId": "f037b3ed-4c23-4c78-9b53-6b8da4a8591a"
      },
      "execution_count": 12,
      "outputs": [
        {
          "output_type": "stream",
          "name": "stdout",
          "text": [
            "Category\n",
            "A    10\n",
            "B    20\n",
            "Name: Value, dtype: int64\n"
          ]
        }
      ]
    },
    {
      "cell_type": "code",
      "source": [
        "import pandas as pd\n",
        "data = {'Category': ['A', 'B', 'A', 'B', 'A', 'B'],\n",
        "        'Value': [10, 20, 15, 25, 30, 35]}\n",
        "df = pd.DataFrame(data)\n",
        "df1 = df.groupby('Category')\n",
        "y1 = df1['Value'].sum()"
      ],
      "metadata": {
        "id": "-olazgvZYqyb"
      },
      "execution_count": 13,
      "outputs": []
    },
    {
      "cell_type": "code",
      "source": [
        "pivot_table = df.pivot_table(index='Category', values='Value', aggfunc='sum')\n",
        "print(pivot_table)"
      ],
      "metadata": {
        "colab": {
          "base_uri": "https://localhost:8080/"
        },
        "id": "-2C-bbbTY_W3",
        "outputId": "88ef0e3f-c5d3-4343-c1bd-d02dcdeeed3f"
      },
      "execution_count": 14,
      "outputs": [
        {
          "output_type": "stream",
          "name": "stdout",
          "text": [
            "          Value\n",
            "Category       \n",
            "A            55\n",
            "B            80\n"
          ]
        }
      ]
    },
    {
      "cell_type": "markdown",
      "source": [
        "# **Basic DataFrame Operations**"
      ],
      "metadata": {
        "id": "rf4GUKSmZLtB"
      }
    },
    {
      "cell_type": "markdown",
      "source": [
        "- Selecting Columns\n",
        "\n",
        "- Filtering Data\n",
        "\n",
        "- Sorting Data\n",
        "\n",
        "- Descriptive Statistics"
      ],
      "metadata": {
        "id": "48vB_jz0ZQNB"
      }
    },
    {
      "cell_type": "code",
      "source": [
        "#selecting a column\n",
        "import pandas as pd\n",
        "data = {'Name': ['Alice', 'Bob', 'Charlie'],\n",
        "        'Age': [25, 30, 35],\n",
        "        'City': ['New York', 'Los Angeles', 'Chicago']}\n",
        "df = pd.DataFrame(data)\n",
        "df1 = df['Name']\n",
        "df2 = df[['Name','Age']]\n",
        "\n",
        "print(df1)"
      ],
      "metadata": {
        "colab": {
          "base_uri": "https://localhost:8080/"
        },
        "id": "_u3NrsHUZJ_l",
        "outputId": "a5fccc88-a6aa-433d-ea91-47cd5e6fe2f5"
      },
      "execution_count": 15,
      "outputs": [
        {
          "output_type": "stream",
          "name": "stdout",
          "text": [
            "0      Alice\n",
            "1        Bob\n",
            "2    Charlie\n",
            "Name: Name, dtype: object\n"
          ]
        }
      ]
    },
    {
      "cell_type": "code",
      "source": [
        "print(df2)"
      ],
      "metadata": {
        "colab": {
          "base_uri": "https://localhost:8080/"
        },
        "id": "Viy3NyVxZqdP",
        "outputId": "f7de8eb7-37f6-4cac-e72a-8c6fd2952f05"
      },
      "execution_count": 16,
      "outputs": [
        {
          "output_type": "stream",
          "name": "stdout",
          "text": [
            "      Name  Age\n",
            "0    Alice   25\n",
            "1      Bob   30\n",
            "2  Charlie   35\n"
          ]
        }
      ]
    },
    {
      "cell_type": "code",
      "source": [
        "#Filter rows\n",
        "x1 = df[df['Age']>30]\n",
        "y1 = df[(df['Age']>25) & (df['City']=='New York')]\n",
        "print(x1)"
      ],
      "metadata": {
        "colab": {
          "base_uri": "https://localhost:8080/"
        },
        "id": "ztz1H4ylZsRd",
        "outputId": "bd3c5b11-3100-4d77-9346-86e8b540b858"
      },
      "execution_count": 17,
      "outputs": [
        {
          "output_type": "stream",
          "name": "stdout",
          "text": [
            "      Name  Age     City\n",
            "2  Charlie   35  Chicago\n"
          ]
        }
      ]
    },
    {
      "cell_type": "code",
      "source": [
        "print(y1)"
      ],
      "metadata": {
        "colab": {
          "base_uri": "https://localhost:8080/"
        },
        "id": "QuGsvh3PaEF9",
        "outputId": "4f4f17e0-a6c4-4242-e6e9-604be73cc212"
      },
      "execution_count": 18,
      "outputs": [
        {
          "output_type": "stream",
          "name": "stdout",
          "text": [
            "Empty DataFrame\n",
            "Columns: [Name, Age, City]\n",
            "Index: []\n"
          ]
        }
      ]
    },
    {
      "cell_type": "code",
      "source": [
        "#sorting Data\n",
        "Q1 = df.sort_values(by='Age')\n",
        "Q2 = df.sort_values(by=['City','Age'],ascending=[True,False])\n"
      ],
      "metadata": {
        "id": "6ht5aTvRaFsm"
      },
      "execution_count": 19,
      "outputs": []
    },
    {
      "cell_type": "code",
      "source": [
        "print(Q1)"
      ],
      "metadata": {
        "colab": {
          "base_uri": "https://localhost:8080/"
        },
        "id": "0bcGnuAIaYOv",
        "outputId": "b9f75351-962b-4d3a-a477-35a255d421e9"
      },
      "execution_count": 20,
      "outputs": [
        {
          "output_type": "stream",
          "name": "stdout",
          "text": [
            "      Name  Age         City\n",
            "0    Alice   25     New York\n",
            "1      Bob   30  Los Angeles\n",
            "2  Charlie   35      Chicago\n"
          ]
        }
      ]
    },
    {
      "cell_type": "code",
      "source": [
        "print(Q2)"
      ],
      "metadata": {
        "colab": {
          "base_uri": "https://localhost:8080/"
        },
        "id": "FvKwyivWaZYq",
        "outputId": "1c7e3eca-70d2-4ba8-8384-fff9d2128c2a"
      },
      "execution_count": 21,
      "outputs": [
        {
          "output_type": "stream",
          "name": "stdout",
          "text": [
            "      Name  Age         City\n",
            "2  Charlie   35      Chicago\n",
            "1      Bob   30  Los Angeles\n",
            "0    Alice   25     New York\n"
          ]
        }
      ]
    }
  ]
}