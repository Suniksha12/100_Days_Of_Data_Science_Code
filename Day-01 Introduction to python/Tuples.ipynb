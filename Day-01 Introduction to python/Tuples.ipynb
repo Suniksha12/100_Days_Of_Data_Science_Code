{
  "nbformat": 4,
  "nbformat_minor": 0,
  "metadata": {
    "colab": {
      "provenance": []
    },
    "kernelspec": {
      "name": "python3",
      "display_name": "Python 3"
    },
    "language_info": {
      "name": "python"
    }
  },
  "cells": [
    {
      "cell_type": "markdown",
      "source": [
        "# **Python Tuples**"
      ],
      "metadata": {
        "id": "VruFbBy8YFCD"
      }
    },
    {
      "cell_type": "markdown",
      "source": [
        "- Immutable: Once a tuple is created, you cannot change its content. This means you cannot add, change, or remove items after the tuple has been created.\n",
        "\n",
        "- Ordered: The items in a tuple have a defined order that will not change. That means, if you add new items to a tuple, the new items will be added at the end of the Tuple.\n",
        "\n",
        "- Allow Duplicates: Since tuples are indexed, they can have items with the same value1.\n",
        "\n",
        "- Tuples are written with round brackets.()."
      ],
      "metadata": {
        "id": "ufjyVv_qYKg7"
      }
    },
    {
      "cell_type": "code",
      "execution_count": 17,
      "metadata": {
        "colab": {
          "base_uri": "https://localhost:8080/"
        },
        "id": "otiZJGfXl5qb",
        "outputId": "701033c5-7d81-40b3-d004-13e3db81903d"
      },
      "outputs": [
        {
          "output_type": "stream",
          "name": "stdout",
          "text": [
            "('apple', 'banana', 'cherry', 'apple', 'cherry')\n",
            "5\n"
          ]
        }
      ],
      "source": [
        "fruits = (\"apple\", \"banana\", \"cherry\", \"apple\", \"cherry\")\n",
        "print(fruits)\n",
        "print(len(fruits))"
      ]
    },
    {
      "cell_type": "code",
      "source": [
        "print(type(fruits))"
      ],
      "metadata": {
        "colab": {
          "base_uri": "https://localhost:8080/"
        },
        "id": "_N5aupSfYpp2",
        "outputId": "fb25afac-77e9-4980-b7f8-09889b21850e"
      },
      "execution_count": 18,
      "outputs": [
        {
          "output_type": "stream",
          "name": "stdout",
          "text": [
            "<class 'tuple'>\n"
          ]
        }
      ]
    },
    {
      "cell_type": "code",
      "source": [
        "fruits = tuple((\"apple\", \"banana\", \"cherry\")) # note the double round-brackets\n",
        "print(fruits)"
      ],
      "metadata": {
        "colab": {
          "base_uri": "https://localhost:8080/"
        },
        "id": "Libtrv5QYtLj",
        "outputId": "9d4b11b0-b3a6-400d-f5cb-e04c2f25391b"
      },
      "execution_count": 19,
      "outputs": [
        {
          "output_type": "stream",
          "name": "stdout",
          "text": [
            "('apple', 'banana', 'cherry')\n"
          ]
        }
      ]
    },
    {
      "cell_type": "markdown",
      "source": [
        "# **Access Tuple Items**"
      ],
      "metadata": {
        "id": "W0U8H6skY2P7"
      }
    },
    {
      "cell_type": "code",
      "source": [
        "fruits = (\"apple\", \"banana\", \"cherry\", \"orange\", \"kiwi\", \"melon\", \"mango\")\n",
        "print(fruits[1])"
      ],
      "metadata": {
        "colab": {
          "base_uri": "https://localhost:8080/"
        },
        "id": "XEPJgsCvYyIe",
        "outputId": "99ac6593-b41f-42ff-d9a1-9349f5c578c9"
      },
      "execution_count": 20,
      "outputs": [
        {
          "output_type": "stream",
          "name": "stdout",
          "text": [
            "banana\n"
          ]
        }
      ]
    },
    {
      "cell_type": "code",
      "source": [
        "print(fruits[-1])"
      ],
      "metadata": {
        "colab": {
          "base_uri": "https://localhost:8080/"
        },
        "id": "xmUBdTh4ZB3s",
        "outputId": "0ff3dda1-a3ce-4361-ea50-d1476e1e890b"
      },
      "execution_count": 21,
      "outputs": [
        {
          "output_type": "stream",
          "name": "stdout",
          "text": [
            "mango\n"
          ]
        }
      ]
    },
    {
      "cell_type": "code",
      "source": [
        "print(fruits[2:5])"
      ],
      "metadata": {
        "colab": {
          "base_uri": "https://localhost:8080/"
        },
        "id": "kTQfMSNlZNau",
        "outputId": "95bfa02f-dd21-4033-98ad-bd4ec7277fa0"
      },
      "execution_count": 22,
      "outputs": [
        {
          "output_type": "stream",
          "name": "stdout",
          "text": [
            "('cherry', 'orange', 'kiwi')\n"
          ]
        }
      ]
    },
    {
      "cell_type": "code",
      "source": [
        "print(fruits[:4])"
      ],
      "metadata": {
        "colab": {
          "base_uri": "https://localhost:8080/"
        },
        "id": "Pga9lWkDadew",
        "outputId": "da18532c-481e-4e1b-a86f-b656fef9325d"
      },
      "execution_count": 23,
      "outputs": [
        {
          "output_type": "stream",
          "name": "stdout",
          "text": [
            "('apple', 'banana', 'cherry', 'orange')\n"
          ]
        }
      ]
    },
    {
      "cell_type": "code",
      "source": [
        "print(fruits[2:])"
      ],
      "metadata": {
        "colab": {
          "base_uri": "https://localhost:8080/"
        },
        "id": "UEOmk-9NahYV",
        "outputId": "30418265-7582-4273-c114-bd4f27de5a4a"
      },
      "execution_count": 24,
      "outputs": [
        {
          "output_type": "stream",
          "name": "stdout",
          "text": [
            "('cherry', 'orange', 'kiwi', 'melon', 'mango')\n"
          ]
        }
      ]
    },
    {
      "cell_type": "code",
      "source": [
        "print(fruits[-4:-1])"
      ],
      "metadata": {
        "colab": {
          "base_uri": "https://localhost:8080/"
        },
        "id": "9l_I2CqnalDC",
        "outputId": "6df16575-c674-441d-b16d-226529803a6f"
      },
      "execution_count": 25,
      "outputs": [
        {
          "output_type": "stream",
          "name": "stdout",
          "text": [
            "('orange', 'kiwi', 'melon')\n"
          ]
        }
      ]
    },
    {
      "cell_type": "markdown",
      "source": [
        "# **Update Tuples**"
      ],
      "metadata": {
        "id": "qGG8Q05Narf0"
      }
    },
    {
      "cell_type": "markdown",
      "source": [
        "As Tuples values cannot be changed , so we can convert the tuple into a list, change the list, and convert the list back into a tuple."
      ],
      "metadata": {
        "id": "JJLx46hVavmo"
      }
    },
    {
      "cell_type": "code",
      "source": [
        "fruits = (\"apple\", \"banana\", \"cherry\")\n",
        "y = list(fruits)"
      ],
      "metadata": {
        "id": "EiVSntPGaqG1"
      },
      "execution_count": 26,
      "outputs": []
    },
    {
      "cell_type": "code",
      "source": [
        "y.append(\"orange\")\n",
        "fruits = tuple(y)"
      ],
      "metadata": {
        "id": "HqrdkFCba_uD"
      },
      "execution_count": 27,
      "outputs": []
    },
    {
      "cell_type": "code",
      "source": [
        "print(fruits)"
      ],
      "metadata": {
        "colab": {
          "base_uri": "https://localhost:8080/"
        },
        "id": "a4jn4Nc0bEkn",
        "outputId": "f83cc0b9-29db-41bd-80f3-6919f6f5d4ab"
      },
      "execution_count": 28,
      "outputs": [
        {
          "output_type": "stream",
          "name": "stdout",
          "text": [
            "('apple', 'banana', 'cherry', 'orange')\n"
          ]
        }
      ]
    },
    {
      "cell_type": "code",
      "source": [
        "#Convert the tuple into a list, remove \"apple\", and convert it back into a tuple:\n",
        "fruits = (\"apple\", \"banana\", \"cherry\")\n",
        "y = list(fruits)\n",
        "y.remove(\"apple\")\n",
        "fruits = tuple(y)\n",
        "print(fruits)"
      ],
      "metadata": {
        "colab": {
          "base_uri": "https://localhost:8080/"
        },
        "id": "3cXeB_eHbGMj",
        "outputId": "b25d0b67-41b2-47a5-a3d7-8b8cb69982d7"
      },
      "execution_count": 29,
      "outputs": [
        {
          "output_type": "stream",
          "name": "stdout",
          "text": [
            "('banana', 'cherry')\n"
          ]
        }
      ]
    },
    {
      "cell_type": "code",
      "source": [
        "fruits = (\"apple\", \"banana\", \"cherry\")\n",
        "del fruits"
      ],
      "metadata": {
        "id": "JVYsj68jbRcW"
      },
      "execution_count": 30,
      "outputs": []
    },
    {
      "cell_type": "markdown",
      "source": [
        "# **Unpack tuples**"
      ],
      "metadata": {
        "id": "rlVhG9y7bbjW"
      }
    },
    {
      "cell_type": "markdown",
      "source": [
        "Unpacking tuples in Python is a way to extract the values from a tuple into separate variables.\n",
        "\n",
        "assigning the value is \"packing\" and extracting the value is \"unpacking\" in python."
      ],
      "metadata": {
        "id": "dG_H3_9obe2H"
      }
    },
    {
      "cell_type": "code",
      "source": [
        "#unpacking using Asterisk(*)\n",
        "fruits = (\"apple\", \"banana\", \"cherry\", \"strawberry\", \"raspberry\")\n",
        "\n",
        "(green, yellow, *red) = fruits\n",
        "\n",
        "print(green)"
      ],
      "metadata": {
        "colab": {
          "base_uri": "https://localhost:8080/"
        },
        "id": "ZVJ3IuRgbUlG",
        "outputId": "93428655-2cee-407b-a10b-368fe69402f2"
      },
      "execution_count": 32,
      "outputs": [
        {
          "output_type": "stream",
          "name": "stdout",
          "text": [
            "apple\n"
          ]
        }
      ]
    },
    {
      "cell_type": "code",
      "source": [
        "print(yellow)"
      ],
      "metadata": {
        "colab": {
          "base_uri": "https://localhost:8080/"
        },
        "id": "Ry3tjfSbnam5",
        "outputId": "870710e9-df39-4703-f04a-1473e0d65a38"
      },
      "execution_count": 33,
      "outputs": [
        {
          "output_type": "stream",
          "name": "stdout",
          "text": [
            "banana\n"
          ]
        }
      ]
    },
    {
      "cell_type": "code",
      "source": [
        "print(red)"
      ],
      "metadata": {
        "colab": {
          "base_uri": "https://localhost:8080/"
        },
        "id": "St1dFL_fndKs",
        "outputId": "5bbcefd9-efb5-498c-9bea-8cead4654d37"
      },
      "execution_count": 34,
      "outputs": [
        {
          "output_type": "stream",
          "name": "stdout",
          "text": [
            "['cherry', 'strawberry', 'raspberry']\n"
          ]
        }
      ]
    },
    {
      "cell_type": "markdown",
      "source": [
        "# **Loop Tuples**"
      ],
      "metadata": {
        "id": "KzFCw5D1nfWP"
      }
    },
    {
      "cell_type": "markdown",
      "source": [
        "Printing items using for loop and while loop."
      ],
      "metadata": {
        "id": "irYyg-GNnmI4"
      }
    },
    {
      "cell_type": "code",
      "source": [
        "fruits = (\"apple\", \"banana\", \"cherry\")\n",
        "for i in range(len(fruits)):\n",
        "  print(fruits[i])"
      ],
      "metadata": {
        "colab": {
          "base_uri": "https://localhost:8080/"
        },
        "id": "tkWCT8w9neUU",
        "outputId": "1e75d7ca-28e4-4ae4-f011-a2430955badc"
      },
      "execution_count": 36,
      "outputs": [
        {
          "output_type": "stream",
          "name": "stdout",
          "text": [
            "apple\n",
            "banana\n",
            "cherry\n"
          ]
        }
      ]
    },
    {
      "cell_type": "code",
      "source": [
        "fruits = (\"apple\", \"banana\", \"cherry\")\n",
        "i =0\n",
        "while i < len(fruits):\n",
        "  print(fruits[i])\n",
        "  i = i + 1"
      ],
      "metadata": {
        "colab": {
          "base_uri": "https://localhost:8080/"
        },
        "id": "LcmFIdRBnynJ",
        "outputId": "c1bd95fb-f1ce-4356-fc9e-55b58911d375"
      },
      "execution_count": 37,
      "outputs": [
        {
          "output_type": "stream",
          "name": "stdout",
          "text": [
            "apple\n",
            "banana\n",
            "cherry\n"
          ]
        }
      ]
    }
  ]
}