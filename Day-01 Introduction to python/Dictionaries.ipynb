{
  "nbformat": 4,
  "nbformat_minor": 0,
  "metadata": {
    "colab": {
      "provenance": []
    },
    "kernelspec": {
      "name": "python3",
      "display_name": "Python 3"
    },
    "language_info": {
      "name": "python"
    }
  },
  "cells": [
    {
      "cell_type": "markdown",
      "source": [
        "# **Python Dictionaries**\n",
        "\n",
        "\n",
        "\n"
      ],
      "metadata": {
        "id": "VW0k85VFyNlN"
      }
    },
    {
      "cell_type": "markdown",
      "source": [
        "Dictionaries are unordered,and mutable data structures.They can be created using the dict() constructor or curly braces' {}'. It has components of Keys and Values."
      ],
      "metadata": {
        "id": "4zf9-7jeCtNh"
      }
    },
    {
      "cell_type": "code",
      "source": [
        "dictt = {\n",
        "    \"brand\" : \"Ford\",\n",
        "    \"model\" : \"Mustang\",\n",
        "    \"year\"  : 1964,\n",
        "    \"colors\":[\"red\",\"white\",\"blue\"]\n",
        "}\n"
      ],
      "metadata": {
        "id": "UB9mcE_-yj-U"
      },
      "execution_count": 3,
      "outputs": []
    },
    {
      "cell_type": "code",
      "source": [
        "print(dictt)"
      ],
      "metadata": {
        "colab": {
          "base_uri": "https://localhost:8080/"
        },
        "id": "lapPvNfsDfqV",
        "outputId": "71a0dff6-9b78-4107-fde1-803f2e41ce3c"
      },
      "execution_count": 4,
      "outputs": [
        {
          "output_type": "stream",
          "name": "stdout",
          "text": [
            "{'brand': 'Ford', 'model': 'Mustang', 'year': 1964, 'colors': ['red', 'white', 'blue']}\n"
          ]
        }
      ]
    },
    {
      "cell_type": "code",
      "source": [
        "print(len(dictt))"
      ],
      "metadata": {
        "colab": {
          "base_uri": "https://localhost:8080/"
        },
        "id": "Bnxtgzp3DfXr",
        "outputId": "ad45eabe-1d95-4838-9cad-9e20d0dedbae"
      },
      "execution_count": 5,
      "outputs": [
        {
          "output_type": "stream",
          "name": "stdout",
          "text": [
            "4\n"
          ]
        }
      ]
    },
    {
      "cell_type": "code",
      "source": [
        "print(type(dictt))"
      ],
      "metadata": {
        "colab": {
          "base_uri": "https://localhost:8080/"
        },
        "id": "ehxMgeWzDk-z",
        "outputId": "ec670f2b-6e6f-43cb-fce0-4460da4667ff"
      },
      "execution_count": 6,
      "outputs": [
        {
          "output_type": "stream",
          "name": "stdout",
          "text": [
            "<class 'dict'>\n"
          ]
        }
      ]
    },
    {
      "cell_type": "markdown",
      "source": [
        "# **Access Dictionary Items**"
      ],
      "metadata": {
        "id": "VPixmMeUDsM5"
      }
    },
    {
      "cell_type": "code",
      "source": [
        "dictt = {\n",
        "    \"brand\" : \"Ford\",\n",
        "    \"model\" : \"Mustang\",\n",
        "    \"year\"  : 1964\n",
        "}\n",
        "x = dictt[\"model\"]\n",
        "y = dictt.get(\"model\")\n",
        "z = dictt.keys()\n",
        "a = dictt.values()\n",
        "b = dictt.items()"
      ],
      "metadata": {
        "id": "stmBcB1-Dqe2"
      },
      "execution_count": 8,
      "outputs": []
    },
    {
      "cell_type": "code",
      "source": [
        "print(x)\n",
        "print(y)"
      ],
      "metadata": {
        "colab": {
          "base_uri": "https://localhost:8080/"
        },
        "id": "1yS-wJ7qJVDQ",
        "outputId": "d3ea7613-d6b2-4c81-e466-5e2d9752a636"
      },
      "execution_count": 9,
      "outputs": [
        {
          "output_type": "stream",
          "name": "stdout",
          "text": [
            "Mustang\n",
            "Mustang\n"
          ]
        }
      ]
    },
    {
      "cell_type": "code",
      "source": [
        "print(z)"
      ],
      "metadata": {
        "colab": {
          "base_uri": "https://localhost:8080/"
        },
        "id": "irYUgaqQJb-b",
        "outputId": "28643b53-1177-41c7-9d84-126a70ebf1db"
      },
      "execution_count": 10,
      "outputs": [
        {
          "output_type": "stream",
          "name": "stdout",
          "text": [
            "dict_keys(['brand', 'model', 'year'])\n"
          ]
        }
      ]
    },
    {
      "cell_type": "code",
      "source": [
        "print(a)"
      ],
      "metadata": {
        "colab": {
          "base_uri": "https://localhost:8080/"
        },
        "id": "73UAVKGVJekD",
        "outputId": "bfccfe5f-5c96-4867-abfd-99d77acd8e64"
      },
      "execution_count": 11,
      "outputs": [
        {
          "output_type": "stream",
          "name": "stdout",
          "text": [
            "dict_values(['Ford', 'Mustang', 1964])\n"
          ]
        }
      ]
    },
    {
      "cell_type": "code",
      "source": [
        "print(b)"
      ],
      "metadata": {
        "colab": {
          "base_uri": "https://localhost:8080/"
        },
        "id": "B5tbt3P5Jf1t",
        "outputId": "8772da76-717f-4279-ffa0-38f57d262b19"
      },
      "execution_count": 12,
      "outputs": [
        {
          "output_type": "stream",
          "name": "stdout",
          "text": [
            "dict_items([('brand', 'Ford'), ('model', 'Mustang'), ('year', 1964)])\n"
          ]
        }
      ]
    },
    {
      "cell_type": "markdown",
      "source": [
        "# **Change Dictionary Items**"
      ],
      "metadata": {
        "id": "NrkWOo66JksM"
      }
    },
    {
      "cell_type": "markdown",
      "source": [
        "In order to change the values in dictionary items we need to chnage the value of a specific item by referring to its key name."
      ],
      "metadata": {
        "id": "VQr4prd2Jt0E"
      }
    },
    {
      "cell_type": "code",
      "source": [
        "dictt = {\n",
        "    \"brand\" : \"Ford\",\n",
        "    \"model\" :\"Mustang\",\n",
        "    \"year\" : 1964\n",
        "}\n",
        "dictt[\"year\"] = 2024"
      ],
      "metadata": {
        "id": "umQosI4WJjV8"
      },
      "execution_count": 13,
      "outputs": []
    },
    {
      "cell_type": "code",
      "source": [
        "print(dictt)"
      ],
      "metadata": {
        "colab": {
          "base_uri": "https://localhost:8080/"
        },
        "id": "yh1rjxoAKMbc",
        "outputId": "b93d99cc-8623-4e99-e443-8b32bea7454d"
      },
      "execution_count": 14,
      "outputs": [
        {
          "output_type": "stream",
          "name": "stdout",
          "text": [
            "{'brand': 'Ford', 'model': 'Mustang', 'year': 2024}\n"
          ]
        }
      ]
    },
    {
      "cell_type": "markdown",
      "source": [
        "# **Adding Items**"
      ],
      "metadata": {
        "id": "70RO0AGNKQms"
      }
    },
    {
      "cell_type": "markdown",
      "source": [
        "we can add items in the dictionary by using new index key and assigning a value to it."
      ],
      "metadata": {
        "id": "HSii-3SxLUXJ"
      }
    },
    {
      "cell_type": "code",
      "source": [
        "dictt = {\n",
        "    \"brand\" : \"Ford\",\n",
        "    \"model\" :\"Mustang\",\n",
        "    \"year\" : 1964\n",
        "}\n",
        "dictt[\"color\"] = \"red\"\n",
        "print(dictt)"
      ],
      "metadata": {
        "colab": {
          "base_uri": "https://localhost:8080/"
        },
        "id": "s_rhTPb3KNyf",
        "outputId": "0b58ddf2-a4bb-4a62-a49f-f0b79f4c6024"
      },
      "execution_count": 16,
      "outputs": [
        {
          "output_type": "stream",
          "name": "stdout",
          "text": [
            "{'brand': 'Ford', 'model': 'Mustang', 'year': 1964, 'color': 'red'}\n"
          ]
        }
      ]
    },
    {
      "cell_type": "code",
      "source": [
        "dictt = {\n",
        "    \"brand\" : \"Ford\",\n",
        "    \"model\" :\"Mustang\",\n",
        "    \"year\" : 1964\n",
        "}\n",
        "dictt.update({\"color\":\"red\"})\n",
        "print(dictt)"
      ],
      "metadata": {
        "colab": {
          "base_uri": "https://localhost:8080/"
        },
        "id": "6kL84QJtLycI",
        "outputId": "73639c02-489f-471d-aa54-09e1ccc4fa8f"
      },
      "execution_count": 17,
      "outputs": [
        {
          "output_type": "stream",
          "name": "stdout",
          "text": [
            "{'brand': 'Ford', 'model': 'Mustang', 'year': 1964, 'color': 'red'}\n"
          ]
        }
      ]
    },
    {
      "cell_type": "markdown",
      "source": [
        "# **Removing Dictionary Items**"
      ],
      "metadata": {
        "id": "k-6EkcMyMC6Z"
      }
    },
    {
      "cell_type": "markdown",
      "source": [
        "we can use pop() method to remove the items, popitem() removes the last inserted item. The del keyowrd removes the item with the specified key name."
      ],
      "metadata": {
        "id": "kmEJyTrTMHgU"
      }
    },
    {
      "cell_type": "code",
      "source": [
        "dictt = {\n",
        "    \"brand\" : \"Ford\",\n",
        "    \"model\" :\"Mustang\",\n",
        "    \"year\" : 1964\n",
        "}\n",
        "dictt.pop(\"model\")\n",
        "print(dictt)"
      ],
      "metadata": {
        "colab": {
          "base_uri": "https://localhost:8080/"
        },
        "id": "VcRkSHgmL8c_",
        "outputId": "4aea6deb-d1cc-4f4e-91fc-0181925f668f"
      },
      "execution_count": 19,
      "outputs": [
        {
          "output_type": "stream",
          "name": "stdout",
          "text": [
            "{'brand': 'Ford', 'year': 1964}\n"
          ]
        }
      ]
    },
    {
      "cell_type": "code",
      "source": [
        "dictt = {\n",
        "    \"brand\" : \"Ford\",\n",
        "    \"model\" :\"Mustang\",\n",
        "    \"year\" : 1964\n",
        "}\n",
        "dictt.popitem()\n",
        "print(dictt)"
      ],
      "metadata": {
        "colab": {
          "base_uri": "https://localhost:8080/"
        },
        "id": "IBuj7bfWMfa1",
        "outputId": "349b6233-3e34-4e70-f52e-6209867b5b22"
      },
      "execution_count": 20,
      "outputs": [
        {
          "output_type": "stream",
          "name": "stdout",
          "text": [
            "{'brand': 'Ford', 'model': 'Mustang'}\n"
          ]
        }
      ]
    },
    {
      "cell_type": "code",
      "source": [
        "dictt = {\n",
        "    \"brand\" : \"Ford\",\n",
        "    \"model\" :\"Mustang\",\n",
        "    \"year\" : 1964\n",
        "}\n",
        "del dictt[\"model\"]\n",
        "print(dictt)"
      ],
      "metadata": {
        "colab": {
          "base_uri": "https://localhost:8080/"
        },
        "id": "FNYxgW6lMwXu",
        "outputId": "c95a2c5e-8f4b-4e0c-c9f8-0ea4142e513e"
      },
      "execution_count": 21,
      "outputs": [
        {
          "output_type": "stream",
          "name": "stdout",
          "text": [
            "{'brand': 'Ford', 'year': 1964}\n"
          ]
        }
      ]
    },
    {
      "cell_type": "code",
      "source": [
        "dictt = {\n",
        "    \"brand\" : \"Ford\",\n",
        "    \"model\" :\"Mustang\",\n",
        "    \"year\" : 1964\n",
        "}\n",
        "dictt.clear()\n",
        "print(dictt)"
      ],
      "metadata": {
        "colab": {
          "base_uri": "https://localhost:8080/"
        },
        "id": "vyNiTfNtM2QA",
        "outputId": "b362a1ac-cc06-4435-90b9-05bd25fc890f"
      },
      "execution_count": 22,
      "outputs": [
        {
          "output_type": "stream",
          "name": "stdout",
          "text": [
            "{}\n"
          ]
        }
      ]
    }
  ]
}