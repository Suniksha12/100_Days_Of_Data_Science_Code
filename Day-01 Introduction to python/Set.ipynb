{
  "nbformat": 4,
  "nbformat_minor": 0,
  "metadata": {
    "colab": {
      "provenance": []
    },
    "kernelspec": {
      "name": "python3",
      "display_name": "Python 3"
    },
    "language_info": {
      "name": "python"
    }
  },
  "cells": [
    {
      "cell_type": "markdown",
      "source": [
        "# **Python Sets**"
      ],
      "metadata": {
        "id": "1v_z7AmOhP-U"
      }
    },
    {
      "cell_type": "markdown",
      "source": [
        "A set in Python is an unordered collection of data types that is iterable, mutable, and has no duplicate elements. Sets are represented by {} (values enclosed in curly braces).\n",
        "\n",
        "- Unordered: Sets are unordered, meaning the items in a set do not have a defined order.\n",
        "\n",
        "- Unique Elements: Sets include only unique elements. **No duplicates are allowed.**\n",
        "\n",
        "- Mutable: While individual set items are unchangeable (immutable), the set as a whole is mutable.\n",
        "\n",
        "- No Indexing or Slicing: There is no index attached to any element in a Python set, so they do not support any indexing or slicing operation3."
      ],
      "metadata": {
        "id": "IAcrD71uhUZ5"
      }
    },
    {
      "cell_type": "code",
      "source": [
        "fruits = {\"apple\", \"banana\", \"cherry\", \"apple\"}\n",
        "\n",
        "print(fruits)\n",
        "print(len(fruits))\n",
        "print(type(fruits))"
      ],
      "metadata": {
        "colab": {
          "base_uri": "https://localhost:8080/"
        },
        "id": "pWbQa_-xhTmc",
        "outputId": "2b7e4ea3-f413-409b-aece-b66c8d1d8328"
      },
      "execution_count": 1,
      "outputs": [
        {
          "output_type": "stream",
          "name": "stdout",
          "text": [
            "{'cherry', 'banana', 'apple'}\n",
            "3\n",
            "<class 'set'>\n"
          ]
        }
      ]
    },
    {
      "cell_type": "code",
      "execution_count": 2,
      "metadata": {
        "colab": {
          "base_uri": "https://localhost:8080/"
        },
        "id": "st1XA__7hKbS",
        "outputId": "2d6dec25-dacf-4d88-9ae3-eb4379c4a2e5"
      },
      "outputs": [
        {
          "output_type": "stream",
          "name": "stdout",
          "text": [
            "{True, 2, 'apple', 'cherry', 'banana'}\n"
          ]
        }
      ],
      "source": [
        "fruits = {\"apple\", \"banana\", \"cherry\", True, 1, 2}\n",
        "print(fruits)"
      ]
    },
    {
      "cell_type": "code",
      "source": [
        "#Using the set() constructor to make a set:\n",
        "fruits = set((\"apple\", \"banana\", \"cherry\"))\n",
        "print(fruits)"
      ],
      "metadata": {
        "colab": {
          "base_uri": "https://localhost:8080/"
        },
        "id": "igUIXfU4ilFn",
        "outputId": "a23534fe-f515-43f9-ddef-d67b0a881226"
      },
      "execution_count": 3,
      "outputs": [
        {
          "output_type": "stream",
          "name": "stdout",
          "text": [
            "{'cherry', 'banana', 'apple'}\n"
          ]
        }
      ]
    },
    {
      "cell_type": "markdown",
      "source": [
        "# **Access Set items**"
      ],
      "metadata": {
        "id": "ossI-7Iai4qS"
      }
    },
    {
      "cell_type": "markdown",
      "source": [
        "We cannot access items in a set by reffering to an index or a key.\n",
        "\n",
        "we can loop thorught tge set itens using a for loop , or ask if a soecified values is present in a set , by using the **in** keyword."
      ],
      "metadata": {
        "id": "fXHWvrsQi8sc"
      }
    },
    {
      "cell_type": "code",
      "source": [
        "fruits = {\"apple\", \"banana\", \"cherry\"}\n",
        "print(\"banana\" in fruits)"
      ],
      "metadata": {
        "colab": {
          "base_uri": "https://localhost:8080/"
        },
        "id": "fvL2vMtei3CA",
        "outputId": "8cb679a3-1521-4634-e927-b2689a4a8fa7"
      },
      "execution_count": 4,
      "outputs": [
        {
          "output_type": "stream",
          "name": "stdout",
          "text": [
            "True\n"
          ]
        }
      ]
    },
    {
      "cell_type": "markdown",
      "source": [
        "# **Add Set Items**"
      ],
      "metadata": {
        "id": "YkHlqE_bjUSg"
      }
    },
    {
      "cell_type": "markdown",
      "source": [
        "- once a set is created we cannot change its items , we can add new items.using add() method or the update() method."
      ],
      "metadata": {
        "id": "tG6Aygrhjcj9"
      }
    },
    {
      "cell_type": "code",
      "source": [
        "fruits = {\"apple\", \"banana\", \"cherry\"}\n",
        "fruits.add(\"orange\")\n",
        "print(fruits)"
      ],
      "metadata": {
        "colab": {
          "base_uri": "https://localhost:8080/"
        },
        "id": "vjWo3F6-jcGT",
        "outputId": "7c69d585-2543-4833-c0bc-1a9870db84eb"
      },
      "execution_count": 5,
      "outputs": [
        {
          "output_type": "stream",
          "name": "stdout",
          "text": [
            "{'orange', 'cherry', 'banana', 'apple'}\n"
          ]
        }
      ]
    },
    {
      "cell_type": "code",
      "source": [
        "fruits = {\"apple\", \"banana\", \"cherry\"}\n",
        "fruits2 = {\"pineapple\", \"mango\", \"papaya\"}\n",
        "fruits.update(fruits2)\n",
        "print(fruits)"
      ],
      "metadata": {
        "colab": {
          "base_uri": "https://localhost:8080/"
        },
        "id": "XtSxvAmPjTT8",
        "outputId": "cec9271c-632f-4293-e97e-4a5619f2f425"
      },
      "execution_count": 6,
      "outputs": [
        {
          "output_type": "stream",
          "name": "stdout",
          "text": [
            "{'papaya', 'apple', 'pineapple', 'cherry', 'mango', 'banana'}\n"
          ]
        }
      ]
    },
    {
      "cell_type": "markdown",
      "source": [
        "# **Remove Set Items**"
      ],
      "metadata": {
        "id": "AagmopKXkFCD"
      }
    },
    {
      "cell_type": "markdown",
      "source": [
        "- Remove \"banana\" by using the remove() method.\n",
        "- Remove \"banana\" by using the discard() method.\n",
        "- Remove a random item by using the pop() method.\n",
        "- clear() method empties the set.\n",
        "- del keyowrd will delete the set completely."
      ],
      "metadata": {
        "id": "Cbhn5cdakIzZ"
      }
    },
    {
      "cell_type": "code",
      "source": [
        "fruits = {\"apple\", \"banana\", \"cherry\"}\n",
        "fruits.remove(\"banana\")\n",
        "print(fruits)"
      ],
      "metadata": {
        "colab": {
          "base_uri": "https://localhost:8080/"
        },
        "id": "L9TSFQKaj4VV",
        "outputId": "3e9363e6-3835-4c19-b378-75ab7e555a1e"
      },
      "execution_count": 7,
      "outputs": [
        {
          "output_type": "stream",
          "name": "stdout",
          "text": [
            "{'cherry', 'apple'}\n"
          ]
        }
      ]
    },
    {
      "cell_type": "code",
      "source": [
        "fruits = {\"apple\", \"banana\", \"cherry\"}\n",
        "fruits.discard(\"banana\")\n",
        "print(fruits)"
      ],
      "metadata": {
        "colab": {
          "base_uri": "https://localhost:8080/"
        },
        "id": "gdMsOTx6kpG-",
        "outputId": "98947348-7b18-4204-d521-47896bdb9693"
      },
      "execution_count": 8,
      "outputs": [
        {
          "output_type": "stream",
          "name": "stdout",
          "text": [
            "{'cherry', 'apple'}\n"
          ]
        }
      ]
    },
    {
      "cell_type": "code",
      "source": [
        "fruits = {\"apple\", \"banana\", \"cherry\"}\n",
        "x = fruits.pop()\n",
        "print(x)\n",
        "print(fruits)"
      ],
      "metadata": {
        "colab": {
          "base_uri": "https://localhost:8080/"
        },
        "id": "pkQQNbJKkt5c",
        "outputId": "70d359de-c77a-41b2-d381-ce1635fa887b"
      },
      "execution_count": 9,
      "outputs": [
        {
          "output_type": "stream",
          "name": "stdout",
          "text": [
            "cherry\n",
            "{'banana', 'apple'}\n"
          ]
        }
      ]
    },
    {
      "cell_type": "code",
      "source": [
        "fruits = {\"apple\", \"banana\", \"cherry\"}\n",
        "fruits.clear()\n",
        "print(fruits)"
      ],
      "metadata": {
        "colab": {
          "base_uri": "https://localhost:8080/"
        },
        "id": "j3J2JZa_k0yd",
        "outputId": "41089317-0025-4dd6-f76e-8297ae29e5c7"
      },
      "execution_count": 10,
      "outputs": [
        {
          "output_type": "stream",
          "name": "stdout",
          "text": [
            "set()\n"
          ]
        }
      ]
    },
    {
      "cell_type": "code",
      "source": [
        "fruits = {\"apple\", \"banana\", \"cherry\"}\n",
        "del fruits"
      ],
      "metadata": {
        "id": "kldzK9jAk8Wa"
      },
      "execution_count": 11,
      "outputs": []
    },
    {
      "cell_type": "markdown",
      "source": [
        "# **Join Two Sets**"
      ],
      "metadata": {
        "id": "3aDmHCuak_FP"
      }
    },
    {
      "cell_type": "markdown",
      "source": [
        "union() method , update() method - intersection_update() , symmetric_difference_update()"
      ],
      "metadata": {
        "id": "QWPZKBvalD8q"
      }
    },
    {
      "cell_type": "code",
      "source": [
        "set1 = {\"a\", \"b\" , \"c\"}\n",
        "set2 = {1, 2, 3}\n",
        "set3 = set1.union(set2)\n",
        "print(set3)"
      ],
      "metadata": {
        "colab": {
          "base_uri": "https://localhost:8080/"
        },
        "id": "ByIJlT8Gk-Tw",
        "outputId": "8663c4df-0b1e-4d28-fcb4-a7ada68707fc"
      },
      "execution_count": 12,
      "outputs": [
        {
          "output_type": "stream",
          "name": "stdout",
          "text": [
            "{1, 2, 'c', 3, 'b', 'a'}\n"
          ]
        }
      ]
    },
    {
      "cell_type": "code",
      "source": [
        "x = {\"apple\", \"banana\", \"cherry\"}\n",
        "y = {\"google\", \"microsoft\", \"apple\"}\n",
        "x.intersection_update(y)\n",
        "print(x)"
      ],
      "metadata": {
        "colab": {
          "base_uri": "https://localhost:8080/"
        },
        "id": "PoDZQDVHldC4",
        "outputId": "a3938fd1-d73f-42df-cc4f-1ab0da81a8d3"
      },
      "execution_count": 13,
      "outputs": [
        {
          "output_type": "stream",
          "name": "stdout",
          "text": [
            "{'apple'}\n"
          ]
        }
      ]
    },
    {
      "cell_type": "code",
      "source": [
        "x = {\"apple\", \"banana\", \"cherry\"}\n",
        "y = {\"google\", \"microsoft\", \"apple\"}\n",
        "x.symmetric_difference_update(y)\n",
        "print(x)"
      ],
      "metadata": {
        "colab": {
          "base_uri": "https://localhost:8080/"
        },
        "id": "Be_MI1blljO_",
        "outputId": "12f1dd19-7adc-4aea-c988-044b101ef4f6"
      },
      "execution_count": 14,
      "outputs": [
        {
          "output_type": "stream",
          "name": "stdout",
          "text": [
            "{'cherry', 'google', 'banana', 'microsoft'}\n"
          ]
        }
      ]
    },
    {
      "cell_type": "code",
      "source": [
        "set1 = {\"a\", \"b\" , \"c\"}\n",
        "set2 = {1, 2, 3}\n",
        "set1.update(set2)\n",
        "print(set1)"
      ],
      "metadata": {
        "colab": {
          "base_uri": "https://localhost:8080/"
        },
        "id": "8xj5kZLulsk3",
        "outputId": "239255c3-f64f-4a05-bafe-390b3d280e08"
      },
      "execution_count": 15,
      "outputs": [
        {
          "output_type": "stream",
          "name": "stdout",
          "text": [
            "{1, 2, 'c', 3, 'b', 'a'}\n"
          ]
        }
      ]
    }
  ]
}