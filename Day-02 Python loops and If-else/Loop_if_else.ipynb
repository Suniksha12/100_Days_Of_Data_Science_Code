{
  "nbformat": 4,
  "nbformat_minor": 0,
  "metadata": {
    "colab": {
      "provenance": []
    },
    "kernelspec": {
      "name": "python3",
      "display_name": "Python 3"
    },
    "language_info": {
      "name": "python"
    }
  },
  "cells": [
    {
      "cell_type": "markdown",
      "source": [
        "# **if-else**"
      ],
      "metadata": {
        "id": "CG28dqxAT1oT"
      }
    },
    {
      "cell_type": "code",
      "execution_count": 1,
      "metadata": {
        "id": "YNk5jdTU7exa",
        "colab": {
          "base_uri": "https://localhost:8080/"
        },
        "outputId": "64e8cd5f-b62c-42f5-a4c1-8ac128ff2fac"
      },
      "outputs": [
        {
          "output_type": "stream",
          "name": "stdout",
          "text": [
            "b is greater than a\n"
          ]
        }
      ],
      "source": [
        "a = 45\n",
        "b = 100\n",
        "if b > a:\n",
        "  print(\"b is greater than a\")"
      ]
    },
    {
      "cell_type": "code",
      "source": [
        "a = 24\n",
        "b = 24\n",
        "if b > a:\n",
        "  print(\"b is greater than a\")\n",
        "elif a ==b:\n",
        "  print(\"a and b are equal\")"
      ],
      "metadata": {
        "colab": {
          "base_uri": "https://localhost:8080/"
        },
        "id": "-nJAXRfkUOnm",
        "outputId": "e3d78ae8-086a-4d6d-8066-ebb2d0a97e84"
      },
      "execution_count": 2,
      "outputs": [
        {
          "output_type": "stream",
          "name": "stdout",
          "text": [
            "a and b are equal\n"
          ]
        }
      ]
    },
    {
      "cell_type": "code",
      "source": [
        "a = 100\n",
        "b = 45\n",
        "if b > a:\n",
        "  print(\"b is greater than a\")\n",
        "elif a == b:\n",
        "  print(\"a and b are equal\")\n",
        "else:\n",
        "  print(\"a is greater than b\")"
      ],
      "metadata": {
        "colab": {
          "base_uri": "https://localhost:8080/"
        },
        "id": "V-7-XQHuXk78",
        "outputId": "83625439-e1fd-42af-9b91-659d3ff005b1"
      },
      "execution_count": 3,
      "outputs": [
        {
          "output_type": "stream",
          "name": "stdout",
          "text": [
            "a is greater than b\n"
          ]
        }
      ]
    },
    {
      "cell_type": "markdown",
      "source": [
        "# **Python Loops**"
      ],
      "metadata": {
        "id": "zBKXGSYsX54C"
      }
    },
    {
      "cell_type": "markdown",
      "source": [
        "while loops and for loops"
      ],
      "metadata": {
        "id": "LP23ndo3X9Ro"
      }
    },
    {
      "cell_type": "code",
      "source": [
        "x = 1\n",
        "while x < 4:\n",
        "  print(x)\n",
        "  x = x + 1"
      ],
      "metadata": {
        "colab": {
          "base_uri": "https://localhost:8080/"
        },
        "id": "WrR4zjCPX4ls",
        "outputId": "62df13b3-197d-4dfc-a075-3bb18e42858d"
      },
      "execution_count": 4,
      "outputs": [
        {
          "output_type": "stream",
          "name": "stdout",
          "text": [
            "1\n",
            "2\n",
            "3\n"
          ]
        }
      ]
    },
    {
      "cell_type": "code",
      "source": [
        "#using break statement\n",
        "x = 1\n",
        "while x < 4:\n",
        "  print(x)\n",
        "  if x == 3:\n",
        "    break\n",
        "  x = x + 1"
      ],
      "metadata": {
        "colab": {
          "base_uri": "https://localhost:8080/"
        },
        "id": "YT8IZOjnYH7V",
        "outputId": "211e494a-9268-4d6a-af95-46bb98e64859"
      },
      "execution_count": 5,
      "outputs": [
        {
          "output_type": "stream",
          "name": "stdout",
          "text": [
            "1\n",
            "2\n",
            "3\n"
          ]
        }
      ]
    },
    {
      "cell_type": "code",
      "source": [
        "#continue statement\n",
        "x = 0\n",
        "while x < 5:\n",
        "  x += 1\n",
        "  if x == 3:\n",
        "    continue\n",
        "  print(x)"
      ],
      "metadata": {
        "colab": {
          "base_uri": "https://localhost:8080/"
        },
        "id": "pDcUzAyFYVeH",
        "outputId": "c7f5475e-45d9-4dfc-f490-ab4a2a48ae30"
      },
      "execution_count": 6,
      "outputs": [
        {
          "output_type": "stream",
          "name": "stdout",
          "text": [
            "1\n",
            "2\n",
            "4\n",
            "5\n"
          ]
        }
      ]
    },
    {
      "cell_type": "code",
      "source": [
        "#Number Guessing game Program In Python\n",
        "import random\n",
        "Max = 20\n",
        "Min = 1\n",
        "adaptive_Max = Max\n",
        "adaptive_Min = Min\n",
        "guessed = random.randint(Min, Max)\n",
        "guess = 0\n",
        "while guess != guessed:\n",
        "    guess = int(input(\"New number: \"))\n",
        "    if guess == 0:\n",
        "        print(\"Sorry that you're giving up!\")\n",
        "        break\n",
        "    elif guess > guessed:\n",
        "        adaptive_Max = guess - 1\n",
        "        print(\"Choose Lower value\")\n",
        "    elif guess < guessed:\n",
        "        adaptive_Max = guess + 1\n",
        "        print(\"Choose Upper Value\")\n",
        "else:\n",
        "    print(\"Congratulations. You made it!\")"
      ],
      "metadata": {
        "colab": {
          "base_uri": "https://localhost:8080/"
        },
        "id": "q0Nz_WiRYfM-",
        "outputId": "804a1450-6784-4345-c032-b0d950c59e24"
      },
      "execution_count": 9,
      "outputs": [
        {
          "output_type": "stream",
          "name": "stdout",
          "text": [
            "New number: 10\n",
            "Choose Upper Value\n",
            "New number: 15\n",
            "Choose Upper Value\n",
            "New number: 20\n",
            "Congratulations. You made it!\n"
          ]
        }
      ]
    },
    {
      "cell_type": "markdown",
      "source": [
        "# **For Loop**"
      ],
      "metadata": {
        "id": "bo9TxrFEanrN"
      }
    },
    {
      "cell_type": "code",
      "source": [
        "fruits = [\"apple\", \"banana\", \"cherry\"]\n",
        "for x in fruits:\n",
        "  print(x)"
      ],
      "metadata": {
        "colab": {
          "base_uri": "https://localhost:8080/"
        },
        "id": "NABa0u6XZ1DP",
        "outputId": "609444ab-bb99-431b-b35b-a9643a1e9b1d"
      },
      "execution_count": 10,
      "outputs": [
        {
          "output_type": "stream",
          "name": "stdout",
          "text": [
            "apple\n",
            "banana\n",
            "cherry\n"
          ]
        }
      ]
    },
    {
      "cell_type": "code",
      "source": [
        "fruits = [\"apple\", \"banana\", \"cherry\"]\n",
        "for x in fruits:\n",
        "  print(x)\n",
        "  if x == \"banana\":\n",
        "    break\n"
      ],
      "metadata": {
        "colab": {
          "base_uri": "https://localhost:8080/"
        },
        "id": "fU36ZeOuawXP",
        "outputId": "6b6cec91-1241-43be-eaad-6fda687877bf"
      },
      "execution_count": 11,
      "outputs": [
        {
          "output_type": "stream",
          "name": "stdout",
          "text": [
            "apple\n",
            "banana\n"
          ]
        }
      ]
    },
    {
      "cell_type": "code",
      "source": [
        "fruits = [\"apple\", \"banana\", \"cherry\"]\n",
        "for x in fruits:\n",
        "  if x == \"banana\":\n",
        "    continue\n",
        "  print(x)"
      ],
      "metadata": {
        "colab": {
          "base_uri": "https://localhost:8080/"
        },
        "id": "9Z-6XWTBa7Il",
        "outputId": "19ffc396-d342-477c-c0e0-bc12533ab549"
      },
      "execution_count": 12,
      "outputs": [
        {
          "output_type": "stream",
          "name": "stdout",
          "text": [
            "apple\n",
            "cherry\n"
          ]
        }
      ]
    },
    {
      "cell_type": "code",
      "source": [
        "for x in range(2,6):\n",
        "   print(x)"
      ],
      "metadata": {
        "colab": {
          "base_uri": "https://localhost:8080/"
        },
        "id": "XHTbbQ76m6jx",
        "outputId": "39c0c7c2-ef3b-4555-8ebb-d40ab306c7a9"
      },
      "execution_count": 14,
      "outputs": [
        {
          "output_type": "stream",
          "name": "stdout",
          "text": [
            "2\n",
            "3\n",
            "4\n",
            "5\n"
          ]
        }
      ]
    },
    {
      "cell_type": "code",
      "source": [
        "#trinagle pattern of star\n",
        "def pattern(n):\n",
        "  k = 2 * n - 2\n",
        "  for i in range(0,n):\n",
        "    for j in range(0,k):\n",
        "      print(end = \" \")\n",
        "    k = k - 1\n",
        "    for j in range(0,i+1):\n",
        "      print(\"*\",end=\" \")\n",
        "    print(\" \")\n",
        "pattern(15)"
      ],
      "metadata": {
        "colab": {
          "base_uri": "https://localhost:8080/"
        },
        "id": "y2ou9HgknFo2",
        "outputId": "43461a85-fb9b-4e06-c366-06eb244dcb15"
      },
      "execution_count": 16,
      "outputs": [
        {
          "output_type": "stream",
          "name": "stdout",
          "text": [
            "                            *  \n",
            "                           * *  \n",
            "                          * * *  \n",
            "                         * * * *  \n",
            "                        * * * * *  \n",
            "                       * * * * * *  \n",
            "                      * * * * * * *  \n",
            "                     * * * * * * * *  \n",
            "                    * * * * * * * * *  \n",
            "                   * * * * * * * * * *  \n",
            "                  * * * * * * * * * * *  \n",
            "                 * * * * * * * * * * * *  \n",
            "                * * * * * * * * * * * * *  \n",
            "               * * * * * * * * * * * * * *  \n",
            "              * * * * * * * * * * * * * * *  \n"
          ]
        }
      ]
    },
    {
      "cell_type": "code",
      "source": [
        "#right start pattern\n",
        "rows = 5\n",
        "for i in range(0,rows):\n",
        "  for j in range(0,i+1):\n",
        "    print(\"*\",end=' ')\n",
        "  print(\"\\r\")\n",
        "\n",
        "for i in range(rows,0,-1):\n",
        "  for j in range(0,i-1):\n",
        "    print(\"-\",end = ' ')\n",
        "  print(\"\\r\")"
      ],
      "metadata": {
        "colab": {
          "base_uri": "https://localhost:8080/"
        },
        "id": "031TdRaln-hx",
        "outputId": "2053522f-34a4-42b4-e642-c893bb16e41f"
      },
      "execution_count": 18,
      "outputs": [
        {
          "output_type": "stream",
          "name": "stdout",
          "text": [
            "* \r\n",
            "* * \r\n",
            "* * * \r\n",
            "* * * * \r\n",
            "* * * * * \r\n",
            "- - - - \r\n",
            "- - - \r\n",
            "- - \r\n",
            "- \r\n",
            "\r\n"
          ]
        }
      ]
    },
    {
      "cell_type": "code",
      "source": [
        "#sandglass pattern\n",
        "rows = 5\n",
        "i =0\n",
        "while i <= rows - 1:\n",
        "  j = 0\n",
        "  while j < i:\n",
        "    print('',end = ' ')\n",
        "    j += 1\n",
        "  k = i\n",
        "  while k <= rows - 1:\n",
        "    print('*',end = ' ')\n",
        "    k += 1\n",
        "  print()\n",
        "  i += 1\n",
        "\n",
        "i = rows - 1\n",
        "while i >= 0:\n",
        "  j =0\n",
        "  while i >=0:\n",
        "    j = 0\n",
        "    while j < i:\n",
        "      print('',end = ' ')\n",
        "      j += 1\n",
        "    k = i\n",
        "    while k <= rows - 1:\n",
        "      print('*',end = ' ')\n",
        "      k += 1\n",
        "    print('')\n",
        "    i -= 1"
      ],
      "metadata": {
        "colab": {
          "base_uri": "https://localhost:8080/"
        },
        "id": "es_daewipoC9",
        "outputId": "baee4e67-f3e5-42ca-aa33-3936221caedd"
      },
      "execution_count": 20,
      "outputs": [
        {
          "output_type": "stream",
          "name": "stdout",
          "text": [
            "* * * * * \n",
            " * * * * \n",
            "  * * * \n",
            "   * * \n",
            "    * \n",
            "    * \n",
            "   * * \n",
            "  * * * \n",
            " * * * * \n",
            "* * * * * \n"
          ]
        }
      ]
    },
    {
      "cell_type": "code",
      "source": [
        "rows = 14\n",
        "print(\"__\" * rows , end = \"\\n\")\n",
        "i = (rows//2) - 1\n",
        "j = 2\n",
        "while i != 0:\n",
        "  while j <= (rows - 2):\n",
        "    print(\"*&\" * i , end = \"\")\n",
        "    print(\"--\" * j , end = \"\")\n",
        "    print(\"&*\" * i , end = \"\\n\")\n",
        "    i = i - 1\n",
        "    j = j + 2"
      ],
      "metadata": {
        "colab": {
          "base_uri": "https://localhost:8080/"
        },
        "id": "7se7xynDqpKv",
        "outputId": "97dc7bd3-344f-43d5-db41-38a8043c463a"
      },
      "execution_count": 33,
      "outputs": [
        {
          "output_type": "stream",
          "name": "stdout",
          "text": [
            "____________________________\n",
            "*&*&*&*&*&*&----&*&*&*&*&*&*\n",
            "*&*&*&*&*&--------&*&*&*&*&*\n",
            "*&*&*&*&------------&*&*&*&*\n",
            "*&*&*&----------------&*&*&*\n",
            "*&*&--------------------&*&*\n",
            "*&------------------------&*\n"
          ]
        }
      ]
    },
    {
      "cell_type": "code",
      "source": [],
      "metadata": {
        "id": "4swuzzL7rYwY"
      },
      "execution_count": null,
      "outputs": []
    }
  ]
}