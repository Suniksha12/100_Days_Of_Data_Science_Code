{
  "nbformat": 4,
  "nbformat_minor": 0,
  "metadata": {
    "colab": {
      "provenance": []
    },
    "kernelspec": {
      "name": "python3",
      "display_name": "Python 3"
    },
    "language_info": {
      "name": "python"
    }
  },
  "cells": [
    {
      "cell_type": "markdown",
      "source": [
        "# **Numpy Random**"
      ],
      "metadata": {
        "id": "PaoaxLYVNVPR"
      }
    },
    {
      "cell_type": "markdown",
      "source": [
        "Random number does not mean a different number everytime. Random means something that cannot be predicted logically.\n",
        "\n",
        "Example:\n",
        "\n",
        "x1:rand() method returns a random float between 0 and 1.\n",
        "\n",
        "x2: Generate a 1-D array containing 5 random floats.\n",
        "\n",
        "x3:Generate a 2-D array with 3 rows,each row containing 5 random numbers.\n",
        "\n",
        "x4: The choice() method allows you to generate a random value based on an array of values.\n",
        "\n",
        "x5: The choice() method also allows you to return an array of values.Add a size parameter to specify the shape of the array.\n",
        "\n",
        "x6:Generate a random integer from 0 to 100.\n",
        "\n",
        "x7:The randint() method takes a size parameter where you can specify the shape of an array.\n",
        "\n",
        "x8:Generate a 2-D array with 3 rows, each row containing 5 random integers from 0 to 100.\n"
      ],
      "metadata": {
        "id": "mQFEjyZ7NZo0"
      }
    },
    {
      "cell_type": "code",
      "execution_count": 30,
      "metadata": {
        "id": "cWeKNqgzNHCH"
      },
      "outputs": [],
      "source": [
        "from numpy import random\n",
        "x1 = random.rand()\n",
        "x2 = random.rand(5)\n",
        "x3 = random.rand(3,5)\n",
        "x4 = random.choice([3,5,7,9])\n",
        "x5 = random.choice([3,5,7,9],size=(3,5))\n",
        "x6 = random.randint(100)\n",
        "x7 = random.randint(100,size=(5))\n",
        "x8 = random.randint(100,size=(3,5))"
      ]
    },
    {
      "cell_type": "code",
      "source": [
        "print(x1)\n",
        "print(\"-------***------\")\n",
        "print(x2)\n",
        "print(\"-------***------\")\n",
        "print(x3)\n",
        "print(\"-------***------\")\n",
        "print(x4)\n",
        "print(\"-------***------\")\n",
        "print(x5)\n",
        "print(\"-------***------\")\n",
        "print(x6)\n",
        "print(\"-------***------\")\n",
        "print(x7)\n",
        "print(\"-------***------\")\n",
        "print(x8)"
      ],
      "metadata": {
        "colab": {
          "base_uri": "https://localhost:8080/"
        },
        "id": "Yj9K5zgVPiW1",
        "outputId": "16985af5-a71c-4540-8d98-c91acd4041b3"
      },
      "execution_count": 31,
      "outputs": [
        {
          "output_type": "stream",
          "name": "stdout",
          "text": [
            "0.13842939536619603\n",
            "-------***------\n",
            "[0.69689599 0.49034734 0.30244388 0.53794354 0.41940498]\n",
            "-------***------\n",
            "[[0.09892031 0.39314601 0.88897872 0.9957451  0.37505961]\n",
            " [0.18743983 0.36441534 0.64412254 0.54410653 0.0713686 ]\n",
            " [0.21676488 0.45760245 0.72773775 0.12114484 0.12447579]]\n",
            "-------***------\n",
            "3\n",
            "-------***------\n",
            "[[3 5 9 3 3]\n",
            " [9 5 3 7 3]\n",
            " [5 3 5 3 7]]\n",
            "-------***------\n",
            "55\n",
            "-------***------\n",
            "[92 52 26  4 60]\n",
            "-------***------\n",
            "[[ 3 93 64 76 25]\n",
            " [20 50 35 42 42]\n",
            " [ 9 97  1  8 30]]\n"
          ]
        }
      ]
    },
    {
      "cell_type": "markdown",
      "source": [
        "# **Normal(Gaussian) Distribution**\n",
        "\n",
        "It fits the probability distribution of many events, eg. IQ Scores, Heartbeat etc.\n",
        "\n",
        "- Binomial Distribution:\n",
        "\n",
        "- Poisson Distribution\n",
        "\n",
        "- Uniform Distribution\n",
        "\n",
        "- Logistic Distribution\n",
        "\n",
        "- Multinomial Distribution\n",
        "\n",
        "- Exponential Distribution\n",
        "\n",
        "- Chi Square Distribution\n",
        "\n",
        "- Rayleigh Distribution\n",
        "\n",
        "- Pareto Distribution\n",
        "\n",
        "- Zipf Distribution"
      ],
      "metadata": {
        "id": "01yYQ_VkQESv"
      }
    },
    {
      "cell_type": "code",
      "source": [
        "from numpy import random\n",
        "\n"
      ],
      "metadata": {
        "id": "C6kH4-azQBwv"
      },
      "execution_count": 32,
      "outputs": []
    },
    {
      "cell_type": "code",
      "source": [
        "y1 = random.normal(loc=1, scale=2, size=(2, 3))\n",
        "print(y1)"
      ],
      "metadata": {
        "colab": {
          "base_uri": "https://localhost:8080/"
        },
        "id": "sxl0c_T3QyJf",
        "outputId": "1d86d591-176f-43ea-b372-2b46f6cf6a82"
      },
      "execution_count": 33,
      "outputs": [
        {
          "output_type": "stream",
          "name": "stdout",
          "text": [
            "[[ 1.2828224   0.90080102 -0.1114089 ]\n",
            " [-1.84002788  2.58502837 -0.10459796]]\n"
          ]
        }
      ]
    },
    {
      "cell_type": "code",
      "source": [
        "y2 = random.binomial(n=10, p=0.5, size=10)\n",
        "print(y2)"
      ],
      "metadata": {
        "colab": {
          "base_uri": "https://localhost:8080/"
        },
        "id": "T0S_VKPwQzuP",
        "outputId": "89d1fb29-8c34-4043-e584-68edcc6a4b28"
      },
      "execution_count": 34,
      "outputs": [
        {
          "output_type": "stream",
          "name": "stdout",
          "text": [
            "[6 8 4 6 6 6 4 7 6 5]\n"
          ]
        }
      ]
    },
    {
      "cell_type": "code",
      "source": [
        "y3 = random.poisson(lam=2, size=10)\n",
        "print(y3)"
      ],
      "metadata": {
        "colab": {
          "base_uri": "https://localhost:8080/"
        },
        "id": "21cKnbwBQ3cP",
        "outputId": "705ed2e0-4dac-428e-85cf-1e66cd43ee05"
      },
      "execution_count": 35,
      "outputs": [
        {
          "output_type": "stream",
          "name": "stdout",
          "text": [
            "[1 1 4 3 4 3 2 0 3 1]\n"
          ]
        }
      ]
    },
    {
      "cell_type": "code",
      "source": [
        "y4 = random.uniform(size=(2, 3))\n",
        "print(y4)"
      ],
      "metadata": {
        "colab": {
          "base_uri": "https://localhost:8080/"
        },
        "id": "ARk0Mu9xQ7fH",
        "outputId": "6b90150a-c958-4ee6-82b4-cbd438e115f5"
      },
      "execution_count": 36,
      "outputs": [
        {
          "output_type": "stream",
          "name": "stdout",
          "text": [
            "[[0.76799882 0.89503684 0.24445698]\n",
            " [0.06058755 0.92490259 0.64725245]]\n"
          ]
        }
      ]
    },
    {
      "cell_type": "code",
      "source": [
        "y5 = random.logistic(loc=1, scale=2, size=(2, 3))\n",
        "print(y5)"
      ],
      "metadata": {
        "colab": {
          "base_uri": "https://localhost:8080/"
        },
        "id": "2RxHVGxtQ-sw",
        "outputId": "750c78eb-714c-4c58-a8f3-153c7217331d"
      },
      "execution_count": 37,
      "outputs": [
        {
          "output_type": "stream",
          "name": "stdout",
          "text": [
            "[[-0.41121021  1.52635364  5.22851241]\n",
            " [ 2.13248149 13.80765632  0.69540267]]\n"
          ]
        }
      ]
    },
    {
      "cell_type": "code",
      "source": [
        "y6 = random.multinomial(n=6, pvals=[1/6, 1/6, 1/6, 1/6, 1/6, 1/6])\n",
        "print(y6)"
      ],
      "metadata": {
        "colab": {
          "base_uri": "https://localhost:8080/"
        },
        "id": "gkT0qLvhRCv1",
        "outputId": "273937f3-5496-4cb2-cbb0-fab78b0ab4d2"
      },
      "execution_count": 38,
      "outputs": [
        {
          "output_type": "stream",
          "name": "stdout",
          "text": [
            "[2 0 1 1 2 0]\n"
          ]
        }
      ]
    },
    {
      "cell_type": "code",
      "source": [
        "y7 = random.exponential(scale=2, size=(2, 3))\n",
        "print(y7)"
      ],
      "metadata": {
        "colab": {
          "base_uri": "https://localhost:8080/"
        },
        "id": "794B091YRHQr",
        "outputId": "5b6b203a-cd92-4c65-c0c3-68103768ee2d"
      },
      "execution_count": 39,
      "outputs": [
        {
          "output_type": "stream",
          "name": "stdout",
          "text": [
            "[[1.6311543  4.24950219 2.2597454 ]\n",
            " [5.05460873 0.2656532  0.23231836]]\n"
          ]
        }
      ]
    },
    {
      "cell_type": "code",
      "source": [
        "y8 = random.chisquare(df=2, size=(2, 3))\n",
        "print(y8)"
      ],
      "metadata": {
        "colab": {
          "base_uri": "https://localhost:8080/"
        },
        "id": "4_MFsEZIRKlG",
        "outputId": "8efef303-aadf-4ba6-a15a-2e2f57e3b9d0"
      },
      "execution_count": 40,
      "outputs": [
        {
          "output_type": "stream",
          "name": "stdout",
          "text": [
            "[[ 2.26356472 13.46797477  0.67972601]\n",
            " [ 2.37449551  2.57776798  1.14811922]]\n"
          ]
        }
      ]
    },
    {
      "cell_type": "code",
      "source": [
        "y9 = random.rayleigh(scale=2, size=(2, 3))\n",
        "print(y9)"
      ],
      "metadata": {
        "colab": {
          "base_uri": "https://localhost:8080/"
        },
        "id": "8w9B-ZHdROtz",
        "outputId": "d52a4c50-b19c-4f22-9f82-ea6627e00fe8"
      },
      "execution_count": 41,
      "outputs": [
        {
          "output_type": "stream",
          "name": "stdout",
          "text": [
            "[[2.66265837 1.80411874 1.33387873]\n",
            " [3.79794684 2.52339074 2.16011162]]\n"
          ]
        }
      ]
    },
    {
      "cell_type": "code",
      "source": [
        "y10 = random.pareto(a=2, size=(2, 3))\n",
        "print(y10)"
      ],
      "metadata": {
        "colab": {
          "base_uri": "https://localhost:8080/"
        },
        "id": "RzQrA8M1RRbt",
        "outputId": "33cdba63-b10f-4320-aae6-ebd7405aa086"
      },
      "execution_count": 42,
      "outputs": [
        {
          "output_type": "stream",
          "name": "stdout",
          "text": [
            "[[0.08676086 1.02176541 0.36208149]\n",
            " [0.05902669 0.69706808 1.51569567]]\n"
          ]
        }
      ]
    },
    {
      "cell_type": "code",
      "source": [
        "y11 = random.zipf(a=2, size=(2, 3))\n",
        "print(y11)"
      ],
      "metadata": {
        "colab": {
          "base_uri": "https://localhost:8080/"
        },
        "id": "aq7MoQGZRetL",
        "outputId": "fc6ef779-216b-45ce-f5ba-f4231fcbd3b7"
      },
      "execution_count": 43,
      "outputs": [
        {
          "output_type": "stream",
          "name": "stdout",
          "text": [
            "[[1 8 6]\n",
            " [1 2 6]]\n"
          ]
        }
      ]
    },
    {
      "cell_type": "markdown",
      "source": [
        "# **Visualization of Distribution**"
      ],
      "metadata": {
        "id": "JvOZYb_kRweM"
      }
    },
    {
      "cell_type": "code",
      "source": [
        "from numpy import random\n",
        "import matplotlib.pyplot as plt\n",
        "import seaborn as sns"
      ],
      "metadata": {
        "id": "tCd606BhRh9y"
      },
      "execution_count": 44,
      "outputs": []
    },
    {
      "cell_type": "code",
      "source": [
        "# Create subplots to display the distributions using Seaborn\n",
        "plt.figure(figsize=(12,12))"
      ],
      "metadata": {
        "colab": {
          "base_uri": "https://localhost:8080/",
          "height": 52
        },
        "id": "y1XPOBIrR_6p",
        "outputId": "228b1b13-5021-4745-b9cc-18333b2bcbdb"
      },
      "execution_count": 45,
      "outputs": [
        {
          "output_type": "execute_result",
          "data": {
            "text/plain": [
              "<Figure size 1200x1200 with 0 Axes>"
            ]
          },
          "metadata": {},
          "execution_count": 45
        },
        {
          "output_type": "display_data",
          "data": {
            "text/plain": [
              "<Figure size 1200x1200 with 0 Axes>"
            ]
          },
          "metadata": {}
        }
      ]
    },
    {
      "cell_type": "code",
      "source": [
        "plt.tight_layout()\n",
        "plt.show()"
      ],
      "metadata": {
        "colab": {
          "base_uri": "https://localhost:8080/",
          "height": 34
        },
        "id": "r00dfPd0SnS3",
        "outputId": "45773697-c48e-401f-f72b-a809c2018db4"
      },
      "execution_count": 50,
      "outputs": [
        {
          "output_type": "display_data",
          "data": {
            "text/plain": [
              "<Figure size 640x480 with 0 Axes>"
            ]
          },
          "metadata": {}
        }
      ]
    },
    {
      "cell_type": "code",
      "source": [
        "# Plot Normal distribution\n",
        "plt.subplot(331)\n",
        "sns.distplot(random.normal(size=1000), hist=False)\n",
        "plt.title('Normal Distribution')"
      ],
      "metadata": {
        "colab": {
          "base_uri": "https://localhost:8080/",
          "height": 419
        },
        "id": "OYAS-6odSDSP",
        "outputId": "682f0752-f5aa-4f46-e4de-5bef2078250d"
      },
      "execution_count": 51,
      "outputs": [
        {
          "output_type": "stream",
          "name": "stderr",
          "text": [
            "<ipython-input-51-d4f1f01f96bc>:3: UserWarning: \n",
            "\n",
            "`distplot` is a deprecated function and will be removed in seaborn v0.14.0.\n",
            "\n",
            "Please adapt your code to use either `displot` (a figure-level function with\n",
            "similar flexibility) or `kdeplot` (an axes-level function for kernel density plots).\n",
            "\n",
            "For a guide to updating your code to use the new functions, please see\n",
            "https://gist.github.com/mwaskom/de44147ed2974457ad6372750bbe5751\n",
            "\n",
            "  sns.distplot(random.normal(size=1000), hist=False)\n"
          ]
        },
        {
          "output_type": "execute_result",
          "data": {
            "text/plain": [
              "Text(0.5, 1.0, 'Normal Distribution')"
            ]
          },
          "metadata": {},
          "execution_count": 51
        },
        {
          "output_type": "display_data",
          "data": {
            "text/plain": [
              "<Figure size 640x480 with 1 Axes>"
            ],
            "image/png": "[encoded data removed]"
          },
          "metadata": {}
        }
      ]
    },
    {
      "cell_type": "code",
      "source": [
        "# Plot Binomial distribution\n",
        "plt.subplot(332)\n",
        "sns.distplot(random.binomial(n=10, p=0.5, size=1000), hist=True, kde=False)\n",
        "plt.title('Binomial Distribution')"
      ],
      "metadata": {
        "colab": {
          "base_uri": "https://localhost:8080/",
          "height": 399
        },
        "id": "haDwkBRJSRqm",
        "outputId": "c22dab6d-fc39-473d-ce53-b957a4088af6"
      },
      "execution_count": 52,
      "outputs": [
        {
          "output_type": "stream",
          "name": "stderr",
          "text": [
            "<ipython-input-52-f4edfdccf5db>:3: UserWarning: \n",
            "\n",
            "`distplot` is a deprecated function and will be removed in seaborn v0.14.0.\n",
            "\n",
            "Please adapt your code to use either `displot` (a figure-level function with\n",
            "similar flexibility) or `histplot` (an axes-level function for histograms).\n",
            "\n",
            "For a guide to updating your code to use the new functions, please see\n",
            "https://gist.github.com/mwaskom/de44147ed2974457ad6372750bbe5751\n",
            "\n",
            "  sns.distplot(random.binomial(n=10, p=0.5, size=1000), hist=True, kde=False)\n"
          ]
        },
        {
          "output_type": "execute_result",
          "data": {
            "text/plain": [
              "Text(0.5, 1.0, 'Binomial Distribution')"
            ]
          },
          "metadata": {},
          "execution_count": 52
        },
        {
          "output_type": "display_data",
          "data": {
            "text/plain": [
              "<Figure size 640x480 with 1 Axes>"
            ],
            "image/png": "[encoded data removed]"
          },
          "metadata": {}
        }
      ]
    },
    {
      "cell_type": "code",
      "source": [
        "# Plot Poisson distribution\n",
        "plt.subplot(333)\n",
        "sns.distplot(random.poisson(lam=2, size=1000), kde=False)\n",
        "plt.title('Poisson distribution')"
      ],
      "metadata": {
        "colab": {
          "base_uri": "https://localhost:8080/",
          "height": 399
        },
        "id": "BaYDhLpCS0pp",
        "outputId": "047eb0f6-8b41-445a-8857-7960d27ddbbc"
      },
      "execution_count": 53,
      "outputs": [
        {
          "output_type": "stream",
          "name": "stderr",
          "text": [
            "<ipython-input-53-5ac836304b02>:3: UserWarning: \n",
            "\n",
            "`distplot` is a deprecated function and will be removed in seaborn v0.14.0.\n",
            "\n",
            "Please adapt your code to use either `displot` (a figure-level function with\n",
            "similar flexibility) or `histplot` (an axes-level function for histograms).\n",
            "\n",
            "For a guide to updating your code to use the new functions, please see\n",
            "https://gist.github.com/mwaskom/de44147ed2974457ad6372750bbe5751\n",
            "\n",
            "  sns.distplot(random.poisson(lam=2, size=1000), kde=False)\n"
          ]
        },
        {
          "output_type": "execute_result",
          "data": {
            "text/plain": [
              "Text(0.5, 1.0, 'Poisson distribution')"
            ]
          },
          "metadata": {},
          "execution_count": 53
        },
        {
          "output_type": "display_data",
          "data": {
            "text/plain": [
              "<Figure size 640x480 with 1 Axes>"
            ],
            "image/png": "[encoded data removed]"
          },
          "metadata": {}
        }
      ]
    },
    {
      "cell_type": "code",
      "source": [
        "# Plot uniform distribution\n",
        "plt.subplot(334)\n",
        "sns.distplot(random.uniform(size=1000), hist=False)\n",
        "plt.title('Uniform distribution')"
      ],
      "metadata": {
        "colab": {
          "base_uri": "https://localhost:8080/",
          "height": 419
        },
        "id": "6L-oOFDGS28_",
        "outputId": "5c015977-1bd5-47ae-f467-5ddb02c1ca91"
      },
      "execution_count": 54,
      "outputs": [
        {
          "output_type": "stream",
          "name": "stderr",
          "text": [
            "<ipython-input-54-a406ded07768>:3: UserWarning: \n",
            "\n",
            "`distplot` is a deprecated function and will be removed in seaborn v0.14.0.\n",
            "\n",
            "Please adapt your code to use either `displot` (a figure-level function with\n",
            "similar flexibility) or `kdeplot` (an axes-level function for kernel density plots).\n",
            "\n",
            "For a guide to updating your code to use the new functions, please see\n",
            "https://gist.github.com/mwaskom/de44147ed2974457ad6372750bbe5751\n",
            "\n",
            "  sns.distplot(random.uniform(size=1000), hist=False)\n"
          ]
        },
        {
          "output_type": "execute_result",
          "data": {
            "text/plain": [
              "Text(0.5, 1.0, 'Uniform distribution')"
            ]
          },
          "metadata": {},
          "execution_count": 54
        },
        {
          "output_type": "display_data",
          "data": {
            "text/plain": [
              "<Figure size 640x480 with 1 Axes>"
            ],
            "image/png": "[encoded data removed]"
          },
          "metadata": {}
        }
      ]
    },
    {
      "cell_type": "code",
      "source": [
        "# Plot logistic distribution\n",
        "plt.subplot(335)\n",
        "sns.distplot(random.logistic(size=1000), hist=False)\n",
        "plt.title('logistic distribution')"
      ],
      "metadata": {
        "colab": {
          "base_uri": "https://localhost:8080/",
          "height": 419
        },
        "id": "r0IyR8gCS4-q",
        "outputId": "0741d2f2-5ff7-434f-af41-e95087aef85b"
      },
      "execution_count": 55,
      "outputs": [
        {
          "output_type": "stream",
          "name": "stderr",
          "text": [
            "<ipython-input-55-eed3e6f73408>:3: UserWarning: \n",
            "\n",
            "`distplot` is a deprecated function and will be removed in seaborn v0.14.0.\n",
            "\n",
            "Please adapt your code to use either `displot` (a figure-level function with\n",
            "similar flexibility) or `kdeplot` (an axes-level function for kernel density plots).\n",
            "\n",
            "For a guide to updating your code to use the new functions, please see\n",
            "https://gist.github.com/mwaskom/de44147ed2974457ad6372750bbe5751\n",
            "\n",
            "  sns.distplot(random.logistic(size=1000), hist=False)\n"
          ]
        },
        {
          "output_type": "execute_result",
          "data": {
            "text/plain": [
              "Text(0.5, 1.0, 'logistic distribution')"
            ]
          },
          "metadata": {},
          "execution_count": 55
        },
        {
          "output_type": "display_data",
          "data": {
            "text/plain": [
              "<Figure size 640x480 with 1 Axes>"
            ],
            "image/png": "[encoded data removed]"
          },
          "metadata": {}
        }
      ]
    },
    {
      "cell_type": "code",
      "source": [
        "# Plot multinomial distribution\n",
        "plt.subplot(336)\n",
        "sns.distplot(random.multinomial(n=6, pvals=[1/6, 1/6, 1/6, 1/6, 1/6, 1/6]))\n",
        "plt.title('multinomial distribution')"
      ],
      "metadata": {
        "colab": {
          "base_uri": "https://localhost:8080/",
          "height": 399
        },
        "id": "Ln4doIqES7HT",
        "outputId": "d0ab94cb-e249-4cc5-d8ae-4413f68c3fe6"
      },
      "execution_count": 56,
      "outputs": [
        {
          "output_type": "stream",
          "name": "stderr",
          "text": [
            "<ipython-input-56-79ca5b8e2f13>:3: UserWarning: \n",
            "\n",
            "`distplot` is a deprecated function and will be removed in seaborn v0.14.0.\n",
            "\n",
            "Please adapt your code to use either `displot` (a figure-level function with\n",
            "similar flexibility) or `histplot` (an axes-level function for histograms).\n",
            "\n",
            "For a guide to updating your code to use the new functions, please see\n",
            "https://gist.github.com/mwaskom/de44147ed2974457ad6372750bbe5751\n",
            "\n",
            "  sns.distplot(random.multinomial(n=6, pvals=[1/6, 1/6, 1/6, 1/6, 1/6, 1/6]))\n"
          ]
        },
        {
          "output_type": "execute_result",
          "data": {
            "text/plain": [
              "Text(0.5, 1.0, 'multinomial distribution')"
            ]
          },
          "metadata": {},
          "execution_count": 56
        },
        {
          "output_type": "display_data",
          "data": {
            "text/plain": [
              "<Figure size 640x480 with 1 Axes>"
            ],
            "image/png": "[encoded data removed]"
          },
          "metadata": {}
        }
      ]
    },
    {
      "cell_type": "code",
      "source": [
        "# Plot exponential distribution\n",
        "plt.subplot(337)\n",
        "sns.distplot(random.exponential(size=1000), hist=False)\n",
        "plt.title('exponential distribution')"
      ],
      "metadata": {
        "colab": {
          "base_uri": "https://localhost:8080/",
          "height": 419
        },
        "id": "OIWCdYx_S9P6",
        "outputId": "fe9929d9-a5b1-431d-c85a-3128dc9604ef"
      },
      "execution_count": 57,
      "outputs": [
        {
          "output_type": "stream",
          "name": "stderr",
          "text": [
            "<ipython-input-57-9aaf9574abf2>:3: UserWarning: \n",
            "\n",
            "`distplot` is a deprecated function and will be removed in seaborn v0.14.0.\n",
            "\n",
            "Please adapt your code to use either `displot` (a figure-level function with\n",
            "similar flexibility) or `kdeplot` (an axes-level function for kernel density plots).\n",
            "\n",
            "For a guide to updating your code to use the new functions, please see\n",
            "https://gist.github.com/mwaskom/de44147ed2974457ad6372750bbe5751\n",
            "\n",
            "  sns.distplot(random.exponential(size=1000), hist=False)\n"
          ]
        },
        {
          "output_type": "execute_result",
          "data": {
            "text/plain": [
              "Text(0.5, 1.0, 'exponential distribution')"
            ]
          },
          "metadata": {},
          "execution_count": 57
        },
        {
          "output_type": "display_data",
          "data": {
            "text/plain": [
              "<Figure size 640x480 with 1 Axes>"
            ],
            "image/png": "[encoded data removed]"
          },
          "metadata": {}
        }
      ]
    },
    {
      "cell_type": "code",
      "source": [
        "# Plot chisquare distribution\n",
        "plt.subplot(338)\n",
        "sns.distplot(random.chisquare(df=1, size=1000), hist=False)\n",
        "plt.title('Chisquare distribution')\n"
      ],
      "metadata": {
        "colab": {
          "base_uri": "https://localhost:8080/",
          "height": 419
        },
        "id": "5qcgU2UAS-82",
        "outputId": "2c3dfc5c-3dd3-4714-e953-ba42bbe4ca04"
      },
      "execution_count": 58,
      "outputs": [
        {
          "output_type": "stream",
          "name": "stderr",
          "text": [
            "<ipython-input-58-3c19dadba643>:3: UserWarning: \n",
            "\n",
            "`distplot` is a deprecated function and will be removed in seaborn v0.14.0.\n",
            "\n",
            "Please adapt your code to use either `displot` (a figure-level function with\n",
            "similar flexibility) or `kdeplot` (an axes-level function for kernel density plots).\n",
            "\n",
            "For a guide to updating your code to use the new functions, please see\n",
            "https://gist.github.com/mwaskom/de44147ed2974457ad6372750bbe5751\n",
            "\n",
            "  sns.distplot(random.chisquare(df=1, size=1000), hist=False)\n"
          ]
        },
        {
          "output_type": "execute_result",
          "data": {
            "text/plain": [
              "Text(0.5, 1.0, 'Chisquare distribution')"
            ]
          },
          "metadata": {},
          "execution_count": 58
        },
        {
          "output_type": "display_data",
          "data": {
            "text/plain": [
              "<Figure size 640x480 with 1 Axes>"
            ],
            "image/png": "[encoded data removed]"
          },
          "metadata": {}
        }
      ]
    },
    {
      "cell_type": "code",
      "source": [
        "# Plot rayleigh distribution\n",
        "plt.subplot(339)\n",
        "sns.distplot(random.rayleigh(size=1000), hist=False)\n",
        "plt.title('rayleigh distribution')"
      ],
      "metadata": {
        "colab": {
          "base_uri": "https://localhost:8080/",
          "height": 419
        },
        "id": "ceNkJDdnTBpM",
        "outputId": "bd2b9c35-0b01-4e30-e8e0-f0e5f8797666"
      },
      "execution_count": 59,
      "outputs": [
        {
          "output_type": "stream",
          "name": "stderr",
          "text": [
            "<ipython-input-59-47bb6dff846c>:3: UserWarning: \n",
            "\n",
            "`distplot` is a deprecated function and will be removed in seaborn v0.14.0.\n",
            "\n",
            "Please adapt your code to use either `displot` (a figure-level function with\n",
            "similar flexibility) or `kdeplot` (an axes-level function for kernel density plots).\n",
            "\n",
            "For a guide to updating your code to use the new functions, please see\n",
            "https://gist.github.com/mwaskom/de44147ed2974457ad6372750bbe5751\n",
            "\n",
            "  sns.distplot(random.rayleigh(size=1000), hist=False)\n"
          ]
        },
        {
          "output_type": "execute_result",
          "data": {
            "text/plain": [
              "Text(0.5, 1.0, 'rayleigh distribution')"
            ]
          },
          "metadata": {},
          "execution_count": 59
        },
        {
          "output_type": "display_data",
          "data": {
            "text/plain": [
              "<Figure size 640x480 with 1 Axes>"
            ],
            "image/png": "[encoded data removed]"
          },
          "metadata": {}
        }
      ]
    },
    {
      "cell_type": "markdown",
      "source": [
        "# **Numpy Universal Functions**"
      ],
      "metadata": {
        "id": "e6AfK3uATG2b"
      }
    },
    {
      "cell_type": "markdown",
      "source": [
        "# Simple Arithmetic\n",
        "\n",
        "- add()\n",
        "\n",
        "- subtract()\n",
        "\n",
        "- multiply()\n",
        "\n",
        "- divide()\n",
        "\n",
        "- power()\n",
        "\n",
        "- mod()\n",
        "\n",
        "- remainder()\n",
        "\n",
        "- divmod()\n",
        "\n",
        "- absolute()"
      ],
      "metadata": {
        "id": "su0l0RPKTMB5"
      }
    },
    {
      "cell_type": "code",
      "source": [
        "import numpy as np\n",
        "\n",
        "arr1 = np.array([10,11,12,13,14,15])\n",
        "arr2 = np.array([20,21,22,23,24,25])\n",
        "\n",
        "new1 = np.add(arr1,arr2)\n",
        "new2 = np.subtract(arr1,arr2)\n",
        "new3 = np.multiply(arr1,arr2)\n",
        "\n",
        "print(new1)\n",
        "print(new2)\n",
        "print(new3)"
      ],
      "metadata": {
        "colab": {
          "base_uri": "https://localhost:8080/"
        },
        "id": "8FLZjucQTDl3",
        "outputId": "3fdaaba7-b2f8-4803-a6b3-ba44e4d04b34"
      },
      "execution_count": 60,
      "outputs": [
        {
          "output_type": "stream",
          "name": "stdout",
          "text": [
            "[30 32 34 36 38 40]\n",
            "[-10 -10 -10 -10 -10 -10]\n",
            "[200 231 264 299 336 375]\n"
          ]
        }
      ]
    },
    {
      "cell_type": "code",
      "source": [
        "import numpy as np\n",
        "\n",
        "arr1 = np.array([10,20,30,40,50,60])\n",
        "arr2 = np.array([3,5,10,8,2,33])\n",
        "\n",
        "new4 = np.divide(arr1,arr2)\n",
        "new5 = np.power(arr1,arr2)\n",
        "new6 = np.mod(arr1,arr2)\n",
        "new7 = np.remainder(arr1,arr2)\n",
        "new8 = np.divmod(arr1,arr2)\n",
        "\n",
        "print(new4)\n",
        "print(\"-------***------\")\n",
        "print(new5)\n",
        "print(\"-------***------\")\n",
        "print(new6)\n",
        "print(\"-------***------\")\n",
        "print(new7)\n",
        "print(\"-------***------\")\n",
        "print(new8)"
      ],
      "metadata": {
        "colab": {
          "base_uri": "https://localhost:8080/"
        },
        "id": "0VMaQroSUAbq",
        "outputId": "33e3b20a-af85-43dd-94ae-c5bc7b7c37e8"
      },
      "execution_count": 62,
      "outputs": [
        {
          "output_type": "stream",
          "name": "stdout",
          "text": [
            "[ 3.33333333  4.          3.          5.         25.          1.81818182]\n",
            "-------***------\n",
            "[           1000         3200000 590490000000000   6553600000000\n",
            "            2500               0]\n",
            "-------***------\n",
            "[ 1  0  0  0  0 27]\n",
            "-------***------\n",
            "[ 1  0  0  0  0 27]\n",
            "-------***------\n",
            "(array([ 3,  4,  3,  5, 25,  1]), array([ 1,  0,  0,  0,  0, 27]))\n"
          ]
        }
      ]
    },
    {
      "cell_type": "code",
      "source": [
        "import numpy as np\n",
        "\n",
        "arr = np.array([-1,-2,1,2,3,-4])\n",
        "new9 = np.absolute(arr)\n",
        "\n",
        "print(new9)"
      ],
      "metadata": {
        "colab": {
          "base_uri": "https://localhost:8080/"
        },
        "id": "GaAE6gkXUxtR",
        "outputId": "95d90749-5510-4676-d36f-df2c879acfdb"
      },
      "execution_count": 63,
      "outputs": [
        {
          "output_type": "stream",
          "name": "stdout",
          "text": [
            "[1 2 1 2 3 4]\n"
          ]
        }
      ]
    },
    {
      "cell_type": "markdown",
      "source": [
        "# **Rounding Decimals**\n",
        "\n"
      ],
      "metadata": {
        "id": "P-Npi2N6VLef"
      }
    },
    {
      "cell_type": "markdown",
      "source": [
        "There are primarily five ways of rounding off decimals in NumPy:\n",
        "\n",
        "- truncation\n",
        "\n",
        "- fix\n",
        "\n",
        "- rounding\n",
        "\n",
        "- floor\n",
        "\n",
        "- ceil"
      ],
      "metadata": {
        "id": "XNbQg-9tVPRc"
      }
    },
    {
      "cell_type": "code",
      "source": [
        "import numpy as np\n",
        "\n",
        "arr1 = np.trunc([-3.1666,3.6667])\n",
        "arr2 = np.fix([-3.1666,3.6667])\n",
        "arr3 = np.around(3.1666,2)\n",
        "arr4 = np.floor([-3.1666,3.6667])\n",
        "arr5 = np.ceil([-3.1666,3.6667])\n",
        "\n",
        "print(arr1)\n",
        "print(\"-------***------\")\n",
        "print(arr2)\n",
        "print(\"-------***------\")\n",
        "print(arr3)\n",
        "print(\"-------***------\")\n",
        "print(arr4)\n",
        "print(\"-------***------\")\n",
        "print(arr5)"
      ],
      "metadata": {
        "colab": {
          "base_uri": "https://localhost:8080/"
        },
        "id": "rBCxLUOiVFQg",
        "outputId": "6d886471-8905-4203-e9e9-ac96189bced8"
      },
      "execution_count": 65,
      "outputs": [
        {
          "output_type": "stream",
          "name": "stdout",
          "text": [
            "[-3.  3.]\n",
            "-------***------\n",
            "[-3.  3.]\n",
            "-------***------\n",
            "3.17\n",
            "-------***------\n",
            "[-4.  3.]\n",
            "-------***------\n",
            "[-3.  4.]\n"
          ]
        }
      ]
    }
  ]
}