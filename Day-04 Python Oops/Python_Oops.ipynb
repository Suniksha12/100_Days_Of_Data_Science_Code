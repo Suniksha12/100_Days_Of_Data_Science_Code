{
  "nbformat": 4,
  "nbformat_minor": 0,
  "metadata": {
    "colab": {
      "provenance": []
    },
    "kernelspec": {
      "name": "python3",
      "display_name": "Python 3"
    },
    "language_info": {
      "name": "python"
    }
  },
  "cells": [
    {
      "cell_type": "markdown",
      "source": [
        "# **Python Oops**"
      ],
      "metadata": {
        "id": "JxxzZCqye-Wt"
      }
    },
    {
      "cell_type": "markdown",
      "source": [
        "# Creating Class\n",
        "\n",
        "A class is a blueprint or a template for creating objects while an object is an instance or a copy of the class with actual values.\n"
      ],
      "metadata": {
        "id": "TskXN-vvfGWM"
      }
    },
    {
      "cell_type": "code",
      "execution_count": 1,
      "metadata": {
        "id": "cXmJAPSOUOwe"
      },
      "outputs": [],
      "source": [
        "#creating a class with a class Keyword\n",
        "class Details:\n",
        "  name = \"Suniksha\"\n",
        "  address = \"Maharastra\"\n",
        "  age = 21"
      ]
    },
    {
      "cell_type": "markdown",
      "source": [
        "# Creating an object:\n",
        "\n",
        "create object of a class."
      ],
      "metadata": {
        "id": "TJqe72YUf2tJ"
      }
    },
    {
      "cell_type": "code",
      "source": [
        "class Details:\n",
        "  name = \"Suniksha\"\n",
        "  address = \"Maharastra\"\n",
        "  age = 21\n",
        "\n",
        "obj1 = Details()\n",
        "print(obj1.name)\n",
        "print(obj1.address)\n",
        "print(obj1.age)"
      ],
      "metadata": {
        "colab": {
          "base_uri": "https://localhost:8080/"
        },
        "id": "hPZIk7D4f_tA",
        "outputId": "1b784d74-f09b-47fb-9a6b-9eb8f3ab420f"
      },
      "execution_count": 2,
      "outputs": [
        {
          "output_type": "stream",
          "name": "stdout",
          "text": [
            "Suniksha\n",
            "Maharastra\n",
            "21\n"
          ]
        }
      ]
    },
    {
      "cell_type": "markdown",
      "source": [
        "# **self Method**\n",
        "\n",
        "The self parameter is a reference to the current instance of the class, and is used to access variables that belong to the class.\n",
        "\n",
        "It must be provided as the extra parameter inside the method definition."
      ],
      "metadata": {
        "id": "n0mS6MlVgO0r"
      }
    },
    {
      "cell_type": "code",
      "source": [
        "class Details:\n",
        "  name = \"Suniksha\"\n",
        "  address = \"Maharastra\"\n",
        "  age = 21\n",
        "\n",
        "  def desc(self):\n",
        "    print(\"My name is \", self.name,\n",
        "          \"I'm from\",self.address,\n",
        "          \"and I'm\",self.age,\"years old.\")\n",
        "\n",
        "obj1 = Details()\n",
        "obj1.desc()"
      ],
      "metadata": {
        "colab": {
          "base_uri": "https://localhost:8080/"
        },
        "id": "epbaAJ7NgNNt",
        "outputId": "ce80f93f-8e93-49fc-8559-61b4bf37460d"
      },
      "execution_count": 3,
      "outputs": [
        {
          "output_type": "stream",
          "name": "stdout",
          "text": [
            "My name is  Suniksha I'm from Maharastra and I'm 21 years old.\n"
          ]
        }
      ]
    },
    {
      "cell_type": "markdown",
      "source": [
        "# **init method**\n",
        "\n",
        "The init method is used to initialize the object's state and contains statements that are executed at the time of object creation."
      ],
      "metadata": {
        "id": "KYNV1cH2hEDn"
      }
    },
    {
      "cell_type": "code",
      "source": [
        "class Details:\n",
        "  def __init__(self,name,age):\n",
        "    self.name = name\n",
        "    self.age = age\n",
        "\n",
        "obj1 = Details(\"Suniksha\",21)\n",
        "print(\"Hello my name is \" + obj1.name)"
      ],
      "metadata": {
        "colab": {
          "base_uri": "https://localhost:8080/"
        },
        "id": "PZJ_gKmpg_qe",
        "outputId": "4b1fb3e8-e7d9-4bb6-9bef-8153d395138f"
      },
      "execution_count": 4,
      "outputs": [
        {
          "output_type": "stream",
          "name": "stdout",
          "text": [
            "Hello my name is Suniksha\n"
          ]
        }
      ]
    },
    {
      "cell_type": "code",
      "source": [
        "class Details:\n",
        "  def __init__(self, name , age):\n",
        "    self.name = name\n",
        "    self.age = age\n",
        "\n",
        "  def __str__(self):\n",
        "    return f\"{self.name}({self.age})\"\n",
        "\n",
        "obj1 = Details(\"Suniksha\",21)\n",
        "\n",
        "print(obj1)"
      ],
      "metadata": {
        "colab": {
          "base_uri": "https://localhost:8080/"
        },
        "id": "2CxDfkr-h1sj",
        "outputId": "75d10420-7368-4a77-a3a7-7f9882c4c971"
      },
      "execution_count": 5,
      "outputs": [
        {
          "output_type": "stream",
          "name": "stdout",
          "text": [
            "Suniksha(21)\n"
          ]
        }
      ]
    },
    {
      "cell_type": "markdown",
      "source": [
        "# **Python Iterators**"
      ],
      "metadata": {
        "id": "zX-R5j_biS7_"
      }
    },
    {
      "cell_type": "markdown",
      "source": [
        "Iterators in python are used to iterate over iterable objects or container datatypes like lists, tuples , dictionaries,sets etc.\n"
      ],
      "metadata": {
        "id": "YuhYsVSSif5n"
      }
    },
    {
      "cell_type": "markdown",
      "source": [
        "It consists of iter() and next() methods.\n",
        "\n",
        "iter() : to initialize an iterator, use the iter() method.\n",
        "\n",
        "next(): This method return the next item of the sequence."
      ],
      "metadata": {
        "id": "odc8Lbw_52Oh"
      }
    },
    {
      "cell_type": "code",
      "source": [
        "#using inbuit iterators:\n",
        "string = 'Hello world'\n",
        "iterObj = iter(string)\n",
        "\n",
        "while True:\n",
        "  try:\n",
        "    char1 = next(iterObj)\n",
        "    print(char1)\n",
        "  except StopIteration:\n",
        "    break"
      ],
      "metadata": {
        "colab": {
          "base_uri": "https://localhost:8080/"
        },
        "id": "l9Q2mRJQiRW-",
        "outputId": "c12f6a6c-772e-40a8-99d8-ca142760e6bd"
      },
      "execution_count": 7,
      "outputs": [
        {
          "output_type": "stream",
          "name": "stdout",
          "text": [
            "H\n",
            "e\n",
            "l\n",
            "l\n",
            "o\n",
            " \n",
            "w\n",
            "o\n",
            "r\n",
            "l\n",
            "d\n"
          ]
        }
      ]
    },
    {
      "cell_type": "code",
      "source": [
        "#Creating Custom iterators:\n",
        "class multipleOf4:\n",
        "  def __iter__(self):\n",
        "    self.count = 0\n",
        "    return self\n",
        "\n",
        "  def __next__(self):\n",
        "    if self.count <= 100:\n",
        "      x = self.count\n",
        "      self.count += 10\n",
        "      return x\n",
        "    else:\n",
        "      raise StopIteration\n",
        "\n",
        "obj1 = multipleOf4()\n",
        "number = iter(obj1)\n",
        "\n",
        "for x in number:\n",
        "  print(x)"
      ],
      "metadata": {
        "colab": {
          "base_uri": "https://localhost:8080/"
        },
        "id": "vh4JtTrA662d",
        "outputId": "7fc7a485-6138-480b-edcd-ddd2d75e1a45"
      },
      "execution_count": 8,
      "outputs": [
        {
          "output_type": "stream",
          "name": "stdout",
          "text": [
            "0\n",
            "10\n",
            "20\n",
            "30\n",
            "40\n",
            "50\n",
            "60\n",
            "70\n",
            "80\n",
            "90\n",
            "100\n"
          ]
        }
      ]
    },
    {
      "cell_type": "markdown",
      "source": [
        "# **Python Try Except**\n",
        "\n",
        "- The try block lets us test a block of code for errors.\n",
        "- The except block lets you handle the error.\n",
        "- The else block lets you execute code when there is no error.\n",
        "- The finally block lets you execute code, regardless of the result of the try - and except blocks."
      ],
      "metadata": {
        "id": "ukKBPXOn7ufA"
      }
    },
    {
      "cell_type": "code",
      "source": [
        "try:\n",
        "  num = int(input(\"Enter an integer:\"))\n",
        "except ValueError:\n",
        "  print(\"Number entered is not a integer.\")"
      ],
      "metadata": {
        "colab": {
          "base_uri": "https://localhost:8080/"
        },
        "id": "ihjb78Ce7r74",
        "outputId": "839dac09-c6ba-4f01-c60a-949c77d9ddd0"
      },
      "execution_count": 9,
      "outputs": [
        {
          "output_type": "stream",
          "name": "stdout",
          "text": [
            "Enter an integer:mnop\n",
            "Number entered is not a integer.\n"
          ]
        }
      ]
    },
    {
      "cell_type": "code",
      "source": [
        "try:\n",
        "  num=int(input(\"Enter an integer:\"))\n",
        "except ValueError:\n",
        "  print(\"Number entered is not an integer.\")\n",
        "else:\n",
        "  print(\"Integer Accepted\")"
      ],
      "metadata": {
        "colab": {
          "base_uri": "https://localhost:8080/"
        },
        "id": "lFYGw9Tk8YE4",
        "outputId": "0760c9da-ef22-4441-9514-8cfa8f7e96bf"
      },
      "execution_count": 10,
      "outputs": [
        {
          "output_type": "stream",
          "name": "stdout",
          "text": [
            "Enter an integer:78\n",
            "Integer Accepted\n"
          ]
        }
      ]
    },
    {
      "cell_type": "code",
      "source": [
        "try:\n",
        "  num = int(input(\"Entere an integer:\"))\n",
        "except ValueError:\n",
        "  print(\"Number entered is not an integer.\")\n",
        "else:\n",
        "  print(\"Integer Accepted.\")\n",
        "finally:\n",
        "  print(\"This block is always executed.\")"
      ],
      "metadata": {
        "colab": {
          "base_uri": "https://localhost:8080/"
        },
        "id": "ih0lC79h8q1V",
        "outputId": "b89a42e2-c5e1-4f1f-daa1-9afc67cabd5f"
      },
      "execution_count": 11,
      "outputs": [
        {
          "output_type": "stream",
          "name": "stdout",
          "text": [
            "Entere an integer:-4\n",
            "Integer Accepted.\n",
            "This block is always executed.\n"
          ]
        }
      ]
    },
    {
      "cell_type": "code",
      "source": [],
      "metadata": {
        "id": "jo6Vd53l9B48"
      },
      "execution_count": null,
      "outputs": []
    }
  ]
}