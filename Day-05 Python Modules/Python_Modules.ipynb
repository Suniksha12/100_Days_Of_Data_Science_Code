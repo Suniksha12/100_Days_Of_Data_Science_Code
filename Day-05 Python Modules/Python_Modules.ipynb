{
  "nbformat": 4,
  "nbformat_minor": 0,
  "metadata": {
    "colab": {
      "provenance": []
    },
    "kernelspec": {
      "name": "python3",
      "display_name": "Python 3"
    },
    "language_info": {
      "name": "python"
    }
  },
  "cells": [
    {
      "cell_type": "markdown",
      "source": [
        "# **Python Modules**\n",
        "\n",
        "There are two types of python modules:\n",
        "\n",
        "1. Buit-in modules\n",
        "2. User-defined modules\n",
        "\n",
        "1. Built-in modules:\n",
        "\n",
        "- math\n",
        "\n",
        "- date\n",
        "\n",
        "- os\n",
        "\n",
        "- sys"
      ],
      "metadata": {
        "id": "qm9OFQS-9W94"
      }
    },
    {
      "cell_type": "code",
      "execution_count": 1,
      "metadata": {
        "colab": {
          "base_uri": "https://localhost:8080/"
        },
        "id": "1bMcGupB9Pu8",
        "outputId": "a10d245e-ca19-41d3-f30d-d7ed21580637"
      },
      "outputs": [
        {
          "output_type": "stream",
          "name": "stdout",
          "text": [
            "Value of cos90 is: -0.4480736161291701\n",
            "Value of sin0 is: 0.0\n",
            "Value of tan45 is: 1.6197751905438615\n",
            "Value of pie is: 3.141592653589793\n"
          ]
        }
      ],
      "source": [
        "import math\n",
        "cos90 = math.cos(90)\n",
        "sin0 = math.sin(0)\n",
        "tan45 = math.tan(45)\n",
        "pie = math.pi\n",
        "print(\"Value of cos90 is:\", cos90)\n",
        "print(\"Value of sin0 is:\", sin0)\n",
        "print(\"Value of tan45 is:\",tan45)\n",
        "print(\"Value of pie is:\",pie)"
      ]
    },
    {
      "cell_type": "code",
      "source": [
        "from math import e, tau\n",
        "print(\"The value of tau is:\",tau)\n",
        "print(\"euler's number is:\",e)"
      ],
      "metadata": {
        "colab": {
          "base_uri": "https://localhost:8080/"
        },
        "id": "eEfAwiyc-MXA",
        "outputId": "fc007a69-7d40-457e-876e-a886302a0f4c"
      },
      "execution_count": 2,
      "outputs": [
        {
          "output_type": "stream",
          "name": "stdout",
          "text": [
            "The value of tau is: 6.283185307179586\n",
            "euler's number is: 2.718281828459045\n"
          ]
        }
      ]
    },
    {
      "cell_type": "code",
      "source": [
        "from math import sqrt,factorial,pi\n",
        "print(sqrt(100))\n",
        "print(factorial(5))\n",
        "print(pi)"
      ],
      "metadata": {
        "colab": {
          "base_uri": "https://localhost:8080/"
        },
        "id": "9pT0KZD_-fbz",
        "outputId": "e5283490-e78a-4f65-9083-5875ecf37d7b"
      },
      "execution_count": 3,
      "outputs": [
        {
          "output_type": "stream",
          "name": "stdout",
          "text": [
            "10.0\n",
            "120\n",
            "3.141592653589793\n"
          ]
        }
      ]
    },
    {
      "cell_type": "code",
      "source": [
        "import math\n",
        "x = math.ceil(5.7) #rounds a number upwards to its nearest integer.\n",
        "y = math.floor(5.7) #rounds a number downwards to its nearest integer\n",
        "print(x)\n",
        "print(y)"
      ],
      "metadata": {
        "colab": {
          "base_uri": "https://localhost:8080/"
        },
        "id": "sv4qQ_OT-usU",
        "outputId": "5516c116-ad1a-46af-bff9-9bfb3aaf8488"
      },
      "execution_count": 5,
      "outputs": [
        {
          "output_type": "stream",
          "name": "stdout",
          "text": [
            "6\n",
            "5\n"
          ]
        }
      ]
    },
    {
      "cell_type": "code",
      "source": [
        "#return the power fucntion (x^y)\n",
        "import math\n",
        "x = pow(4,3)\n",
        "print(\"4 to the power of 3:\",x)"
      ],
      "metadata": {
        "colab": {
          "base_uri": "https://localhost:8080/"
        },
        "id": "zmcc2UPR-2x8",
        "outputId": "3b0472d2-db2f-42d1-903d-4ce559e6fa54"
      },
      "execution_count": 6,
      "outputs": [
        {
          "output_type": "stream",
          "name": "stdout",
          "text": [
            "4 to the power of 3: 64\n"
          ]
        }
      ]
    },
    {
      "cell_type": "code",
      "source": [
        "import math\n",
        "x = min(5,10,25)\n",
        "y = max(5,10,25)\n",
        "\n",
        "print(\"Minimum value in x:\",x)\n",
        "print(\"Maximum value in y:\",y)"
      ],
      "metadata": {
        "colab": {
          "base_uri": "https://localhost:8080/"
        },
        "id": "ZLQSMLQa_SDf",
        "outputId": "11f0587f-4f12-4385-985d-1f99f8db78f0"
      },
      "execution_count": 7,
      "outputs": [
        {
          "output_type": "stream",
          "name": "stdout",
          "text": [
            "Minimum value in x: 5\n",
            "Maximum value in y: 25\n"
          ]
        }
      ]
    },
    {
      "cell_type": "code",
      "source": [
        "#abs() returns the absolute (positive) value of the specified number\n",
        "import math\n",
        "x = abs(-49.25)\n",
        "print(x)"
      ],
      "metadata": {
        "colab": {
          "base_uri": "https://localhost:8080/"
        },
        "id": "4ZLB3rHH_krW",
        "outputId": "d4349e42-7333-4a05-c257-25a0cae90c10"
      },
      "execution_count": 8,
      "outputs": [
        {
          "output_type": "stream",
          "name": "stdout",
          "text": [
            "49.25\n"
          ]
        }
      ]
    },
    {
      "cell_type": "markdown",
      "source": [
        "# **Date & Time**"
      ],
      "metadata": {
        "id": "x8BGVitO_vk-"
      }
    },
    {
      "cell_type": "code",
      "source": [
        "import datetime\n",
        "now = datetime.datetime.now()\n",
        "print(now)\n",
        "print(now.year)\n",
        "print(now.month)\n",
        "print(now.day)"
      ],
      "metadata": {
        "colab": {
          "base_uri": "https://localhost:8080/"
        },
        "id": "v2vTQX0L_zat",
        "outputId": "d5aa77ee-9295-4d50-8f6c-9729a5cebf1e"
      },
      "execution_count": 10,
      "outputs": [
        {
          "output_type": "stream",
          "name": "stdout",
          "text": [
            "2024-01-02 21:08:00.422881\n",
            "2024\n",
            "1\n",
            "2\n"
          ]
        }
      ]
    },
    {
      "cell_type": "code",
      "source": [
        "import time\n",
        "print(time.time())"
      ],
      "metadata": {
        "colab": {
          "base_uri": "https://localhost:8080/"
        },
        "id": "zYKc6FJZACsr",
        "outputId": "9d2940e2-081f-4210-af6d-0ab801e3c8bf"
      },
      "execution_count": 11,
      "outputs": [
        {
          "output_type": "stream",
          "name": "stdout",
          "text": [
            "1704229704.6241024\n"
          ]
        }
      ]
    },
    {
      "cell_type": "code",
      "source": [
        "#print current time\n",
        "import time\n",
        "print(time.ctime())"
      ],
      "metadata": {
        "colab": {
          "base_uri": "https://localhost:8080/"
        },
        "id": "uKE0BID_AY3q",
        "outputId": "6a3ef2fa-acbc-48f1-b245-c5c744826856"
      },
      "execution_count": 12,
      "outputs": [
        {
          "output_type": "stream",
          "name": "stdout",
          "text": [
            "Tue Jan  2 21:08:57 2024\n"
          ]
        }
      ]
    },
    {
      "cell_type": "code",
      "source": [
        "#sleep() function inside time module is used to delay execution of current time thread by the given number of seconds.\n",
        "import time\n",
        "time.sleep(10)\n",
        "print(time.ctime())"
      ],
      "metadata": {
        "colab": {
          "base_uri": "https://localhost:8080/"
        },
        "id": "y9id5yLFAhFg",
        "outputId": "b850fa11-0652-4c07-a0b2-1c14d435445a"
      },
      "execution_count": 13,
      "outputs": [
        {
          "output_type": "stream",
          "name": "stdout",
          "text": [
            "Tue Jan  2 21:09:49 2024\n"
          ]
        }
      ]
    },
    {
      "cell_type": "code",
      "source": [
        "#To get the output of local time in struct_time format, use the localtime() function.\n",
        "import time\n",
        "print(time.localtime(1704229704.6241024)) #use the above tym format"
      ],
      "metadata": {
        "colab": {
          "base_uri": "https://localhost:8080/"
        },
        "id": "PjF0dKJ1ArUd",
        "outputId": "8a358c58-68fa-4292-f11e-e8a3dd21fdde"
      },
      "execution_count": 14,
      "outputs": [
        {
          "output_type": "stream",
          "name": "stdout",
          "text": [
            "time.struct_time(tm_year=2024, tm_mon=1, tm_mday=2, tm_hour=21, tm_min=8, tm_sec=24, tm_wday=1, tm_yday=2, tm_isdst=0)\n"
          ]
        }
      ]
    },
    {
      "cell_type": "code",
      "source": [
        "#To get the output of Coordinated Universal Time in struct_time format, use the gmtime() function.\n",
        "import time\n",
        "print(time.gmtime(1704229704.6241024))"
      ],
      "metadata": {
        "colab": {
          "base_uri": "https://localhost:8080/"
        },
        "id": "2vFZtv9MA97S",
        "outputId": "9c798155-5935-49f0-d196-0011d706ac66"
      },
      "execution_count": 16,
      "outputs": [
        {
          "output_type": "stream",
          "name": "stdout",
          "text": [
            "time.struct_time(tm_year=2024, tm_mon=1, tm_mday=2, tm_hour=21, tm_min=8, tm_sec=24, tm_wday=1, tm_yday=2, tm_isdst=0)\n"
          ]
        }
      ]
    },
    {
      "cell_type": "code",
      "source": [
        "#in order to reverse the data into time\n",
        "import time\n",
        "local_time = (2024,1,2,21,8,24,1,2,0)\n",
        "print(time.mktime(local_time))"
      ],
      "metadata": {
        "colab": {
          "base_uri": "https://localhost:8080/"
        },
        "id": "IZYDiHoUBFVT",
        "outputId": "6821ccf8-0202-47fb-9159-da6221d1085a"
      },
      "execution_count": 18,
      "outputs": [
        {
          "output_type": "stream",
          "name": "stdout",
          "text": [
            "1704229704.0\n"
          ]
        }
      ]
    },
    {
      "cell_type": "code",
      "source": [
        "#printing in single string\n",
        "import time\n",
        "local_time = (2024,1,2,21,8,24,1,2,0)\n",
        "print(time.asctime(local_time))"
      ],
      "metadata": {
        "colab": {
          "base_uri": "https://localhost:8080/"
        },
        "id": "CI-f1dVZBhYt",
        "outputId": "cf85c573-bd20-4a1a-86db-9da35a20ffb4"
      },
      "execution_count": 21,
      "outputs": [
        {
          "output_type": "stream",
          "name": "stdout",
          "text": [
            "Tue Jan  2 21:08:24 2024\n"
          ]
        }
      ]
    },
    {
      "cell_type": "code",
      "source": [
        "#converting string based into struct_time format\n",
        "import time\n",
        "local_time = \"2 january, 2024\"\n",
        "print(time.strptime(local_time, \"%d %B, %Y\"))"
      ],
      "metadata": {
        "colab": {
          "base_uri": "https://localhost:8080/"
        },
        "id": "Y6s9-BsvCFyy",
        "outputId": "8df21e46-543d-4b8c-c77a-2cfc92ad58dc"
      },
      "execution_count": 26,
      "outputs": [
        {
          "output_type": "stream",
          "name": "stdout",
          "text": [
            "time.struct_time(tm_year=2024, tm_mon=1, tm_mday=2, tm_hour=0, tm_min=0, tm_sec=0, tm_wday=1, tm_yday=2, tm_isdst=-1)\n"
          ]
        }
      ]
    },
    {
      "cell_type": "code",
      "source": [
        "#calendar\n",
        "import calendar\n",
        "print(calendar.month(2024,1))"
      ],
      "metadata": {
        "colab": {
          "base_uri": "https://localhost:8080/"
        },
        "id": "wExyaSG4Cfhj",
        "outputId": "ee2278d1-da1e-4fb4-b9b5-91d26370d330"
      },
      "execution_count": 29,
      "outputs": [
        {
          "output_type": "stream",
          "name": "stdout",
          "text": [
            "    January 2024\n",
            "Mo Tu We Th Fr Sa Su\n",
            " 1  2  3  4  5  6  7\n",
            " 8  9 10 11 12 13 14\n",
            "15 16 17 18 19 20 21\n",
            "22 23 24 25 26 27 28\n",
            "29 30 31\n",
            "\n"
          ]
        }
      ]
    },
    {
      "cell_type": "code",
      "source": [
        "from google.colab import files\n",
        "uploaded = files.upload()\n"
      ],
      "metadata": {
        "colab": {
          "base_uri": "https://localhost:8080/",
          "height": 73
        },
        "id": "Ykplvzy7D7Ua",
        "outputId": "171160f5-97cd-4ee0-f67f-b5b64ca5f033"
      },
      "execution_count": 32,
      "outputs": [
        {
          "output_type": "display_data",
          "data": {
            "text/plain": [
              "<IPython.core.display.HTML object>"
            ],
            "text/html": [
              "\n",
              "     <input type=\"file\" id=\"files-9f1addb6-c2f4-44ec-8ced-a888c593b3c4\" name=\"files[]\" multiple disabled\n",
              "        style=\"border:none\" />\n",
              "     <output id=\"result-9f1addb6-c2f4-44ec-8ced-a888c593b3c4\">\n",
              "      Upload widget is only available when the cell has been executed in the\n",
              "      current browser session. Please rerun this cell to enable.\n",
              "      </output>\n",
              "      <script>// Copyright 2017 Google LLC\n",
              "//\n",
              "// Licensed under the Apache License, Version 2.0 (the \"License\");\n",
              "// you may not use this file except in compliance with the License.\n",
              "// You may obtain a copy of the License at\n",
              "//\n",
              "//      http://www.apache.org/licenses/LICENSE-2.0\n",
              "//\n",
              "// Unless required by applicable law or agreed to in writing, software\n",
              "// distributed under the License is distributed on an \"AS IS\" BASIS,\n",
              "// WITHOUT WARRANTIES OR CONDITIONS OF ANY KIND, either express or implied.\n",
              "// See the License for the specific language governing permissions and\n",
              "// limitations under the License.\n",
              "\n",
              "/**\n",
              " * @fileoverview Helpers for google.colab Python module.\n",
              " */\n",
              "(function(scope) {\n",
              "function span(text, styleAttributes = {}) {\n",
              "  const element = document.createElement('span');\n",
              "  element.textContent = text;\n",
              "  for (const key of Object.keys(styleAttributes)) {\n",
              "    element.style[key] = styleAttributes[key];\n",
              "  }\n",
              "  return element;\n",
              "}\n",
              "\n",
              "// Max number of bytes which will be uploaded at a time.\n",
              "const MAX_PAYLOAD_SIZE = 100 * 1024;\n",
              "\n",
              "function _uploadFiles(inputId, outputId) {\n",
              "  const steps = uploadFilesStep(inputId, outputId);\n",
              "  const outputElement = document.getElementById(outputId);\n",
              "  // Cache steps on the outputElement to make it available for the next call\n",
              "  // to uploadFilesContinue from Python.\n",
              "  outputElement.steps = steps;\n",
              "\n",
              "  return _uploadFilesContinue(outputId);\n",
              "}\n",
              "\n",
              "// This is roughly an async generator (not supported in the browser yet),\n",
              "// where there are multiple asynchronous steps and the Python side is going\n",
              "// to poll for completion of each step.\n",
              "// This uses a Promise to block the python side on completion of each step,\n",
              "// then passes the result of the previous step as the input to the next step.\n",
              "function _uploadFilesContinue(outputId) {\n",
              "  const outputElement = document.getElementById(outputId);\n",
              "  const steps = outputElement.steps;\n",
              "\n",
              "  const next = steps.next(outputElement.lastPromiseValue);\n",
              "  return Promise.resolve(next.value.promise).then((value) => {\n",
              "    // Cache the last promise value to make it available to the next\n",
              "    // step of the generator.\n",
              "    outputElement.lastPromiseValue = value;\n",
              "    return next.value.response;\n",
              "  });\n",
              "}\n",
              "\n",
              "/**\n",
              " * Generator function which is called between each async step of the upload\n",
              " * process.\n",
              " * @param {string} inputId Element ID of the input file picker element.\n",
              " * @param {string} outputId Element ID of the output display.\n",
              " * @return {!Iterable<!Object>} Iterable of next steps.\n",
              " */\n",
              "function* uploadFilesStep(inputId, outputId) {\n",
              "  const inputElement = document.getElementById(inputId);\n",
              "  inputElement.disabled = false;\n",
              "\n",
              "  const outputElement = document.getElementById(outputId);\n",
              "  outputElement.innerHTML = '';\n",
              "\n",
              "  const pickedPromise = new Promise((resolve) => {\n",
              "    inputElement.addEventListener('change', (e) => {\n",
              "      resolve(e.target.files);\n",
              "    });\n",
              "  });\n",
              "\n",
              "  const cancel = document.createElement('button');\n",
              "  inputElement.parentElement.appendChild(cancel);\n",
              "  cancel.textContent = 'Cancel upload';\n",
              "  const cancelPromise = new Promise((resolve) => {\n",
              "    cancel.onclick = () => {\n",
              "      resolve(null);\n",
              "    };\n",
              "  });\n",
              "\n",
              "  // Wait for the user to pick the files.\n",
              "  const files = yield {\n",
              "    promise: Promise.race([pickedPromise, cancelPromise]),\n",
              "    response: {\n",
              "      action: 'starting',\n",
              "    }\n",
              "  };\n",
              "\n",
              "  cancel.remove();\n",
              "\n",
              "  // Disable the input element since further picks are not allowed.\n",
              "  inputElement.disabled = true;\n",
              "\n",
              "  if (!files) {\n",
              "    return {\n",
              "      response: {\n",
              "        action: 'complete',\n",
              "      }\n",
              "    };\n",
              "  }\n",
              "\n",
              "  for (const file of files) {\n",
              "    const li = document.createElement('li');\n",
              "    li.append(span(file.name, {fontWeight: 'bold'}));\n",
              "    li.append(span(\n",
              "        `(${file.type || 'n/a'}) - ${file.size} bytes, ` +\n",
              "        `last modified: ${\n",
              "            file.lastModifiedDate ? file.lastModifiedDate.toLocaleDateString() :\n",
              "                                    'n/a'} - `));\n",
              "    const percent = span('0% done');\n",
              "    li.appendChild(percent);\n",
              "\n",
              "    outputElement.appendChild(li);\n",
              "\n",
              "    const fileDataPromise = new Promise((resolve) => {\n",
              "      const reader = new FileReader();\n",
              "      reader.onload = (e) => {\n",
              "        resolve(e.target.result);\n",
              "      };\n",
              "      reader.readAsArrayBuffer(file);\n",
              "    });\n",
              "    // Wait for the data to be ready.\n",
              "    let fileData = yield {\n",
              "      promise: fileDataPromise,\n",
              "      response: {\n",
              "        action: 'continue',\n",
              "      }\n",
              "    };\n",
              "\n",
              "    // Use a chunked sending to avoid message size limits. See b/62115660.\n",
              "    let position = 0;\n",
              "    do {\n",
              "      const length = Math.min(fileData.byteLength - position, MAX_PAYLOAD_SIZE);\n",
              "      const chunk = new Uint8Array(fileData, position, length);\n",
              "      position += length;\n",
              "\n",
              "      const base64 = btoa(String.fromCharCode.apply(null, chunk));\n",
              "      yield {\n",
              "        response: {\n",
              "          action: 'append',\n",
              "          file: file.name,\n",
              "          data: base64,\n",
              "        },\n",
              "      };\n",
              "\n",
              "      let percentDone = fileData.byteLength === 0 ?\n",
              "          100 :\n",
              "          Math.round((position / fileData.byteLength) * 100);\n",
              "      percent.textContent = `${percentDone}% done`;\n",
              "\n",
              "    } while (position < fileData.byteLength);\n",
              "  }\n",
              "\n",
              "  // All done.\n",
              "  yield {\n",
              "    response: {\n",
              "      action: 'complete',\n",
              "    }\n",
              "  };\n",
              "}\n",
              "\n",
              "scope.google = scope.google || {};\n",
              "scope.google.colab = scope.google.colab || {};\n",
              "scope.google.colab._files = {\n",
              "  _uploadFiles,\n",
              "  _uploadFilesContinue,\n",
              "};\n",
              "})(self);\n",
              "</script> "
            ]
          },
          "metadata": {}
        },
        {
          "output_type": "stream",
          "name": "stdout",
          "text": [
            "Saving Python_Oops.ipynb to Python_Oops.ipynb\n"
          ]
        }
      ]
    },
    {
      "cell_type": "code",
      "source": [
        "import os\n",
        "import getpass\n",
        "\n",
        "print(os.getcwd())\n",
        "print(getpass.getuser())\n"
      ],
      "metadata": {
        "colab": {
          "base_uri": "https://localhost:8080/"
        },
        "id": "xZTRzUUDET7f",
        "outputId": "251c1342-b004-47e7-dd42-517a76249a12"
      },
      "execution_count": 34,
      "outputs": [
        {
          "output_type": "stream",
          "name": "stdout",
          "text": [
            "/content\n",
            "root\n"
          ]
        }
      ]
    },
    {
      "cell_type": "code",
      "source": [
        "import sys\n",
        "print(sys.version)\n",
        "print(sys.argv)"
      ],
      "metadata": {
        "colab": {
          "base_uri": "https://localhost:8080/"
        },
        "id": "fxXuaSv4DPye",
        "outputId": "7ddf1eaa-e8c0-4a7c-f8d9-eb5f6a177e46"
      },
      "execution_count": 36,
      "outputs": [
        {
          "output_type": "stream",
          "name": "stdout",
          "text": [
            "3.10.12 (main, Nov 20 2023, 15:14:05) [GCC 11.4.0]\n",
            "['/usr/local/lib/python3.10/dist-packages/colab_kernel_launcher.py', '-f', '/root/.local/share/jupyter/runtime/kernel-73b075b3-59b6-4e9e-bb56-ccbf29fb8b1f.json']\n"
          ]
        }
      ]
    },
    {
      "cell_type": "code",
      "source": [
        "#using json module\n",
        "import json\n",
        "data = {\n",
        "    \"name\": \"suniksha\",\n",
        "    \"age\": 21,\n",
        "    \"state\": \"Madhya pradesh\"\n",
        "}\n",
        "json_data = json.dumps(data)\n",
        "print(json_data)"
      ],
      "metadata": {
        "colab": {
          "base_uri": "https://localhost:8080/"
        },
        "id": "mv3x3OqqEa2c",
        "outputId": "d9666344-b6e7-493e-d006-2a54c917ddff"
      },
      "execution_count": 37,
      "outputs": [
        {
          "output_type": "stream",
          "name": "stdout",
          "text": [
            "{\"name\": \"suniksha\", \"age\": 21, \"state\": \"Madhya pradesh\"}\n"
          ]
        }
      ]
    },
    {
      "cell_type": "code",
      "source": [
        "#using the radom module\n",
        "import random\n",
        "print(random.randint(1,100))\n",
        "print(random.choice([1,2,3,4,5]))"
      ],
      "metadata": {
        "colab": {
          "base_uri": "https://localhost:8080/"
        },
        "id": "IPJ3StxmExru",
        "outputId": "f99c3265-10c1-4223-e1ae-6a8a4a5a88a3"
      },
      "execution_count": 38,
      "outputs": [
        {
          "output_type": "stream",
          "name": "stdout",
          "text": [
            "97\n",
            "3\n"
          ]
        }
      ]
    },
    {
      "cell_type": "markdown",
      "source": [
        "# **User-Defined modules in Python**"
      ],
      "metadata": {
        "id": "-daeEjKyFd0L"
      }
    },
    {
      "cell_type": "markdown",
      "source": [
        "It is created by the user to simplify their project.these modules can contain functions, classes,variables, and other code that you can reuse across multiple scripts."
      ],
      "metadata": {
        "id": "rG-YwleBFiGt"
      }
    },
    {
      "cell_type": "code",
      "source": [
        "import math\n",
        "\n",
        "num1 = int(input(\"Enter first number:\"))\n",
        "num2 = int(input(\"Enter second number:\"))\n",
        "\n",
        "print(\"Addition:\",num1+num2)\n",
        "print(\"Subtraction\",num1-num2)\n",
        "print(\"Multiplication\",num1*num2)\n",
        "print(\"Division\",num1/num2)\n"
      ],
      "metadata": {
        "colab": {
          "base_uri": "https://localhost:8080/"
        },
        "id": "FLk2xGyUE82s",
        "outputId": "a401b41c-1e7a-4ad1-eb6b-ac15717648a9"
      },
      "execution_count": 39,
      "outputs": [
        {
          "output_type": "stream",
          "name": "stdout",
          "text": [
            "Enter first number:8\n",
            "Enter second number:12\n",
            "Addition: 20\n",
            "Subtraction -4\n",
            "Multiplication 96\n",
            "Division 0.6666666666666666\n"
          ]
        }
      ]
    },
    {
      "cell_type": "code",
      "source": [
        "Number = 564\n",
        "def AddNumber():\n",
        "  global Number\n",
        "  Number = Number + 200\n",
        "print(\"The number is :\",Number)\n",
        "\n",
        "AddNumber()\n",
        "print(\"The number is:\",Number)"
      ],
      "metadata": {
        "colab": {
          "base_uri": "https://localhost:8080/"
        },
        "id": "cFZt9sg8GPXV",
        "outputId": "cc1bc62f-07d9-4580-bcc8-9d928d5da953"
      },
      "execution_count": 41,
      "outputs": [
        {
          "output_type": "stream",
          "name": "stdout",
          "text": [
            "The number is : 564\n",
            "The number is: 764\n"
          ]
        }
      ]
    },
    {
      "cell_type": "code",
      "source": [],
      "metadata": {
        "id": "imgG1ZjEGkEL"
      },
      "execution_count": null,
      "outputs": []
    }
  ]
}